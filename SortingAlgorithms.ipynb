{
  "nbformat": 4,
  "nbformat_minor": 0,
  "metadata": {
    "colab": {
      "provenance": [],
      "collapsed_sections": [
        "B1hBeLjycN9K",
        "VM2aNK9jQlG8",
        "C7wRzc03T3-3",
        "UEU55I36Z_Bc",
        "c8OwJSkrb_07",
        "Ih9LoO98bFEh",
        "AK7UcyUWbFEi",
        "up-0nLsRcis7",
        "yVqzwiD6cis8",
        "7_FrTlufcis-",
        "hEN1DXTKBDc3",
        "BI_vxsEpm8YG",
        "jMpW8Zf9m8YG",
        "EuxrKR2nm8YH",
        "wOfonvZdyEOt",
        "z3YL3FsTyEOt",
        "HtWAwYnZyEOu",
        "BdwOrO8Q_anm",
        "3uJii0Rg3b_5",
        "dlBJtIHXwvlH",
        "DP8MS2grwvlI",
        "KvwgOEuKwvlI",
        "eqR8Q25x71_y",
        "IsB7o18Uv52R",
        "MpRJ-7H_LO8q"
      ],
      "toc_visible": true,
      "include_colab_link": true
    },
    "kernelspec": {
      "name": "python3",
      "display_name": "Python 3"
    },
    "language_info": {
      "name": "python"
    }
  },
  "cells": [
    {
      "cell_type": "markdown",
      "metadata": {
        "id": "view-in-github",
        "colab_type": "text"
      },
      "source": [
        "<a href=\"https://colab.research.google.com/github/Kapek432/DSA/blob/main/SortingAlgorithms.ipynb\" target=\"_parent\"><img src=\"https://colab.research.google.com/assets/colab-badge.svg\" alt=\"Open In Colab\"/></a>"
      ]
    },
    {
      "cell_type": "markdown",
      "source": [
        "## **Insertion Sort (Sortowanie przez wstawianie)**\n"
      ],
      "metadata": {
        "id": "a8szZqbYcis6"
      }
    },
    {
      "cell_type": "markdown",
      "source": [
        "# **Helper functions**"
      ],
      "metadata": {
        "id": "bj4-kWWCWAdf"
      }
    },
    {
      "cell_type": "markdown",
      "source": [
        "**Function to test sorting algorithms**"
      ],
      "metadata": {
        "id": "1gGs81fIWFT4"
      }
    },
    {
      "cell_type": "code",
      "source": [
        "import time\n",
        "import random\n",
        "\n",
        "def test_sorting_algorithm(sorting_function, size=1000, min_val=0, max_val=10000, seed=None, in_place=False):\n",
        "    \"\"\"\n",
        "    Tests a sorting algorithm.\n",
        "\n",
        "    :param sorting_function: The sorting function to be tested.\n",
        "    :param size: Number of elements in the test list.\n",
        "    :param min_val: Minimum value of elements.\n",
        "    :param max_val: Maximum value of elements.\n",
        "    :param seed: Random seed for reproducibility.\n",
        "    :param in_place: Set to True for in-place sorting algorithms.\n",
        "    \"\"\"\n",
        "    if seed is not None:\n",
        "        random.seed(seed)\n",
        "\n",
        "    test_data = [random.randint(min_val, max_val) for _ in range(size)]\n",
        "    expected_result = sorted(test_data)\n",
        "\n",
        "    start_time = time.time()\n",
        "\n",
        "    if in_place:\n",
        "        arr_copy = test_data[:]\n",
        "        sorting_function(arr_copy)\n",
        "        sorted_result = arr_copy\n",
        "    else:\n",
        "        sorted_result = sorting_function(test_data[:])\n",
        "\n",
        "    end_time = time.time()\n",
        "\n",
        "    assert sorted_result == expected_result, f\"Error: {sorting_function.__name__} produced incorrect results!\"\n",
        "\n",
        "    print(f\"{sorting_function.__name__} correctly sorted {size} elements in {end_time - start_time:.6f} seconds.\")\n"
      ],
      "metadata": {
        "id": "pmJKHAlRWPgP"
      },
      "execution_count": 1,
      "outputs": []
    },
    {
      "cell_type": "markdown",
      "source": [
        "# **Algorithms with $ O(n^2) $ complexity**"
      ],
      "metadata": {
        "id": "5AJwE7dDPjsu"
      }
    },
    {
      "cell_type": "markdown",
      "source": [
        "## **Bubble Sort (Sortowanie bąbelkowe)**\n",
        "\n"
      ],
      "metadata": {
        "id": "QrZ4jpEESy9j"
      }
    },
    {
      "cell_type": "markdown",
      "source": [
        "### Stable? - Yes"
      ],
      "metadata": {
        "id": "PrkEAGCWdFbI"
      }
    },
    {
      "cell_type": "markdown",
      "source": [
        "### Impelmentation"
      ],
      "metadata": {
        "id": "QxtMRTI7T-76"
      }
    },
    {
      "cell_type": "code",
      "execution_count": null,
      "metadata": {
        "id": "s42yADMdPL1B"
      },
      "outputs": [],
      "source": [
        "def bubble_sort(arr):\n",
        "  arr = arr[:]\n",
        "  for i in range(len(arr) - 1):\n",
        "    for j in range(len(arr) - 1 - i):\n",
        "      if arr[j] > arr[j + 1]:\n",
        "        arr[j], arr[j+1] = arr[j+1], arr[j]\n",
        "  return arr"
      ]
    },
    {
      "cell_type": "code",
      "source": [
        "test_sorting_algorithm(bubble_sort)"
      ],
      "metadata": {
        "colab": {
          "base_uri": "https://localhost:8080/"
        },
        "id": "-I5jY_nvUDnp",
        "outputId": "465808bb-f240-4c2d-ebda-488c4bae8d16"
      },
      "execution_count": null,
      "outputs": [
        {
          "output_type": "stream",
          "name": "stdout",
          "text": [
            "bubble_sort correctly sorted 1000 elements in 0.051612 seconds.\n"
          ]
        }
      ]
    },
    {
      "cell_type": "markdown",
      "source": [
        "### Optimalization - early stopping\n"
      ],
      "metadata": {
        "id": "MDRtc87aUDvR"
      }
    },
    {
      "cell_type": "code",
      "source": [
        "def bubble_sort_optimized(arr):\n",
        "  arr = arr[:]\n",
        "  for i in range(len(arr)-1):\n",
        "    swapped = False\n",
        "    for j in range(len(arr)-1-i):\n",
        "      if arr[j] > arr[j+1]:\n",
        "        arr[j], arr[j+1] = arr[j+1], arr[j]\n",
        "        swapped = True\n",
        "    if not swapped:\n",
        "      return arr\n",
        "  return arr"
      ],
      "metadata": {
        "id": "qxADDHxWUVPI"
      },
      "execution_count": null,
      "outputs": []
    },
    {
      "cell_type": "code",
      "source": [
        "test_sorting_algorithm(bubble_sort_optimized)"
      ],
      "metadata": {
        "colab": {
          "base_uri": "https://localhost:8080/"
        },
        "id": "MkODJ-4hUcaL",
        "outputId": "dda65fc5-8407-4773-c7a8-4d6885296798"
      },
      "execution_count": null,
      "outputs": [
        {
          "output_type": "stream",
          "name": "stdout",
          "text": [
            "bubble_sort_optimized correctly sorted 1000 elements in 0.051404 seconds.\n"
          ]
        }
      ]
    },
    {
      "cell_type": "markdown",
      "source": [
        "## **Selection Sort (Sortowanie przez wybór)**\n"
      ],
      "metadata": {
        "id": "UEU55I36Z_Bc"
      }
    },
    {
      "cell_type": "markdown",
      "source": [
        "### Stable? - No"
      ],
      "metadata": {
        "id": "k1MptGA3c-HK"
      }
    },
    {
      "cell_type": "markdown",
      "source": [
        "### Implementation"
      ],
      "metadata": {
        "id": "1_FXiOlMbLOz"
      }
    },
    {
      "cell_type": "code",
      "source": [
        "def selection_sort(arr):\n",
        "    arr = arr[:]\n",
        "    for i in range(len(arr) - 1):\n",
        "        min_index = i\n",
        "        for j in range(i + 1, len(arr)):\n",
        "            if arr[j] < arr[min_index]:\n",
        "                min_index = j\n",
        "        arr[i], arr[min_index] = arr[min_index], arr[i]\n",
        "    return arr"
      ],
      "metadata": {
        "id": "Ng17zXrRbJpj"
      },
      "execution_count": null,
      "outputs": []
    },
    {
      "cell_type": "code",
      "source": [
        "test_sorting_algorithm(selection_sort)"
      ],
      "metadata": {
        "colab": {
          "base_uri": "https://localhost:8080/"
        },
        "id": "eo007TT_bwz7",
        "outputId": "de5d5894-977b-48c6-cada-10ffefe4acbf"
      },
      "execution_count": null,
      "outputs": [
        {
          "output_type": "stream",
          "name": "stdout",
          "text": [
            "selection_sort correctly sorted 1000 elements in 0.023890 seconds.\n"
          ]
        }
      ]
    },
    {
      "cell_type": "markdown",
      "source": [
        "## **Insertion Sort (Sortowanie przez wstawianie)**\n"
      ],
      "metadata": {
        "id": "YVTQOjoqJRMW"
      }
    },
    {
      "cell_type": "markdown",
      "source": [
        "### Stable? - Yes"
      ],
      "metadata": {
        "id": "KdyEp3Vac1bR"
      }
    },
    {
      "cell_type": "markdown",
      "source": [
        "### Implementation"
      ],
      "metadata": {
        "id": "recp7xPOcis_"
      }
    },
    {
      "cell_type": "code",
      "source": [
        "def InsertionSort(arr):\n",
        "  arr = arr[:]\n",
        "  for i in range(1, len(arr)):\n",
        "    key = arr[i]\n",
        "    prev = i-1\n",
        "    while prev >= 0 and arr[prev] > key:\n",
        "      arr[prev+1] =arr[prev]\n",
        "      prev -= 1\n",
        "    arr[prev+1] = key\n",
        "  return arr"
      ],
      "metadata": {
        "id": "Sowev_qjcitA"
      },
      "execution_count": null,
      "outputs": []
    },
    {
      "cell_type": "code",
      "source": [
        "test_sorting_algorithm(InsertionSort)"
      ],
      "metadata": {
        "colab": {
          "base_uri": "https://localhost:8080/"
        },
        "outputId": "9f80ea80-85d8-411b-e506-2d2155a964fd",
        "id": "yRcWF8CccitA"
      },
      "execution_count": null,
      "outputs": [
        {
          "output_type": "stream",
          "name": "stdout",
          "text": [
            "[15, 15, 78, 78, 41, 6, 94, 22, 29, 28]\n",
            "[6, 15, 15, 22, 28, 29, 41, 78, 78, 94]\n"
          ]
        }
      ]
    },
    {
      "cell_type": "markdown",
      "source": [
        "## **Cycle Sort (Sortowanie cykliczne)**"
      ],
      "metadata": {
        "id": "hEN1DXTKBDc3"
      }
    },
    {
      "cell_type": "markdown",
      "source": [
        "### Stable? - No"
      ],
      "metadata": {
        "id": "FJjwBBx_m8YH"
      }
    },
    {
      "cell_type": "markdown",
      "source": [
        "### Implementation"
      ],
      "metadata": {
        "id": "YZrvvY6Sm8YI"
      }
    },
    {
      "cell_type": "code",
      "source": [
        "def CycleSort(arr):\n",
        "  arr = arr[:]\n",
        "  writes = 0 # przechowuje liczbe zamian\n",
        "\n",
        "  # iterujemy przez tablice aby znalezc cykle\n",
        "  for cycleStart in range(0,len(arr)-1):\n",
        "    item = arr[cycleStart]\n",
        "    pos = cycleStart\n",
        "\n",
        "    #szukamy gdzie nalezy wstawic item\n",
        "    for i in range(cycleStart + 1, len(arr)):\n",
        "      if arr[i] < item:\n",
        "        pos += 1\n",
        "\n",
        "    #jesli pozycja == cycleStart to nie ma cyklu\n",
        "    if pos == cycleStart:\n",
        "      continue;\n",
        "\n",
        "    # jesli nie to wstaw item na pos lub dalej jesli sa duplikaty\n",
        "    while item == arr[pos]:\n",
        "      pos += 1\n",
        "    arr[pos], item = item, arr[pos]\n",
        "    writes += 1\n",
        "\n",
        "    #Teraz rotation dla pozostalej czeci cyklu\n",
        "    while pos != cycleStart:\n",
        "\n",
        "      pos = cycleStart\n",
        "      for i in range(cycleStart + 1, len(arr)):\n",
        "        if arr[i] < item:\n",
        "          pos += 1\n",
        "      #wstaw item na pos lub dalej jesli sa duplikaty\n",
        "      while item == arr[pos]:\n",
        "        pos += 1\n",
        "      arr[pos], item = item, arr[pos]\n",
        "      writes += 1\n",
        "\n",
        "  return arr"
      ],
      "metadata": {
        "id": "qY-2R6YcpOtg"
      },
      "execution_count": 5,
      "outputs": []
    },
    {
      "cell_type": "code",
      "source": [
        "test_sorting_algorithm(CycleSort)"
      ],
      "metadata": {
        "colab": {
          "base_uri": "https://localhost:8080/"
        },
        "id": "5cXZWLkesqTN",
        "outputId": "eab052a3-efc1-4bf2-9a90-5c46195699b9"
      },
      "execution_count": 6,
      "outputs": [
        {
          "output_type": "stream",
          "name": "stdout",
          "text": [
            "CycleSort correctly sorted 1000 elements in 0.067511 seconds.\n"
          ]
        }
      ]
    },
    {
      "cell_type": "markdown",
      "source": [
        "## **Comb Sort (Sortowanie grzebieniowe)**"
      ],
      "metadata": {
        "id": "TMTLVN7RByo1"
      }
    },
    {
      "cell_type": "markdown",
      "source": [
        "### Stable? - No"
      ],
      "metadata": {
        "id": "Q0pb0pLKl4Cp"
      }
    },
    {
      "cell_type": "markdown",
      "source": [
        "### Implementation"
      ],
      "metadata": {
        "id": "HtWAwYnZyEOu"
      }
    },
    {
      "cell_type": "code",
      "source": [
        "def getNextGap(gap):\n",
        "  gap = (gap*10) // 13\n",
        "  if gap < 1:\n",
        "    return 1\n",
        "  return gap\n",
        "\n",
        "def combSort(arr):\n",
        "  arr = arr[:]\n",
        "  n = len(arr)\n",
        "\n",
        "  gap = n\n",
        "  swapped = True\n",
        "\n",
        "  while gap != 1 or swapped == True:\n",
        "    gap = getNextGap(gap)\n",
        "    swapped = False\n",
        "    for i in range(0, n-gap):\n",
        "      if arr[i]>arr[i+gap]:\n",
        "        arr[i],arr[i+gap] = arr[i+gap],arr[i]\n",
        "        swapped = True\n",
        "  return arr"
      ],
      "metadata": {
        "id": "_d53ovbXzC9R"
      },
      "execution_count": 9,
      "outputs": []
    },
    {
      "cell_type": "code",
      "source": [
        "test_sorting_algorithm(combSort)"
      ],
      "metadata": {
        "colab": {
          "base_uri": "https://localhost:8080/"
        },
        "id": "ltLStXuO0wfJ",
        "outputId": "9127b83c-26b2-4d7b-c4da-6e5cf12c87fd"
      },
      "execution_count": 10,
      "outputs": [
        {
          "output_type": "stream",
          "name": "stdout",
          "text": [
            "combSort correctly sorted 1000 elements in 0.002820 seconds.\n"
          ]
        }
      ]
    },
    {
      "cell_type": "markdown",
      "source": [
        "# **Algorithms with $ O(n * log(n)) $ complexity**"
      ],
      "metadata": {
        "id": "rgV11eAS-b7v"
      }
    },
    {
      "cell_type": "markdown",
      "source": [
        "## **Merge Sort (Sortowanie przez scalanie)**"
      ],
      "metadata": {
        "id": "BdwOrO8Q_anm"
      }
    },
    {
      "cell_type": "markdown",
      "source": [
        "### Space complexity - $ O(n) $\n"
      ],
      "metadata": {
        "id": "aT-cs1303b_6"
      }
    },
    {
      "cell_type": "markdown",
      "source": [
        "### Stable? Yes"
      ],
      "metadata": {
        "id": "gu9yC2173b_6"
      }
    },
    {
      "cell_type": "markdown",
      "source": [
        "### Implementation (Python approach)\n"
      ],
      "metadata": {
        "id": "vHfMVuRZ4FN_"
      }
    },
    {
      "cell_type": "code",
      "source": [
        "def mergeSort(arr):\n",
        "  if len(arr) <= 1:\n",
        "    return arr\n",
        "\n",
        "  mid = len(arr) // 2\n",
        "  left = arr[:mid]\n",
        "  right = arr[mid:]\n",
        "\n",
        "  sortedLeft = mergeSort(left)\n",
        "  sortedRight = mergeSort(right)\n",
        "\n",
        "  return merge(sortedLeft,sortedRight)\n",
        "\n",
        "def merge(left,right):\n",
        "  result = []\n",
        "  left_idx = right_idx = 0\n",
        "  while left_idx < len(left) and right_idx < len(right):\n",
        "    if left[left_idx] < right[right_idx]:\n",
        "      result.append(left[left_idx])\n",
        "      left_idx+=1\n",
        "    else:\n",
        "      result.append(right[right_idx])\n",
        "      right_idx+=1\n",
        "\n",
        "\n",
        "  result.extend(left[left_idx:])\n",
        "  result.extend(right[right_idx:])\n",
        "\n",
        "  return result"
      ],
      "metadata": {
        "id": "wgqL1y4h4Hqe"
      },
      "execution_count": 12,
      "outputs": []
    },
    {
      "cell_type": "code",
      "source": [
        "test_sorting_algorithm(mergeSort)"
      ],
      "metadata": {
        "colab": {
          "base_uri": "https://localhost:8080/"
        },
        "id": "Q29kYgmX8TVz",
        "outputId": "5c240dac-e58c-4742-f850-b790c3a6f30a"
      },
      "execution_count": 14,
      "outputs": [
        {
          "output_type": "stream",
          "name": "stdout",
          "text": [
            "mergeSort correctly sorted 1000 elements in 0.001823 seconds.\n"
          ]
        }
      ]
    },
    {
      "cell_type": "markdown",
      "source": [
        "### Impelmentation (Best)"
      ],
      "metadata": {
        "id": "P166ZoXB9y8R"
      }
    },
    {
      "cell_type": "code",
      "source": [
        "def mergeSortBest(arr):\n",
        "  temp_arr = [None] * len(arr) # tablica pomocnicza do przehowywania wyników scalania\n",
        "  step = 1 # zaczynamy scalanie od najmnijeszej podtablicy\n",
        "\n",
        "  while step < len(arr):\n",
        "    for left_idx in range(0,len(arr)-step, 2*step): # tak musi byc zeby kilka razy tego samego nie brac\n",
        "      mid_idx = left_idx + step\n",
        "      right_idx = mid_idx + step\n",
        "\n",
        "      if right_idx > len(arr): right_idx = len(arr)\n",
        "\n",
        "      # Merging\n",
        "      l = left_idx #do iterowania po lewej podtablicy (od left_idx do mid_idx).\n",
        "      m = mid_idx  #do iterowania po prawej podtablicy (od mid_idx do right_idx).\n",
        "      k = left_idx # do przypisywania wartości do temp_arr (od left_idx).\n",
        "\n",
        "      while l < mid_idx and m < right_idx:\n",
        "        if arr[l] <= arr[m]:\n",
        "          temp_arr[k] = arr[l]\n",
        "          l += 1\n",
        "        else:\n",
        "          temp_arr[k] = arr[m]\n",
        "          m += 1\n",
        "        k += 1\n",
        "\n",
        "      #Dopisujemy pozostale\n",
        "      while l < mid_idx:\n",
        "        temp_arr[k] = arr[l]\n",
        "        l += 1\n",
        "        k += 1\n",
        "      while m < right_idx:\n",
        "        temp_arr[k] = arr[m]\n",
        "        m += 1\n",
        "        k += 1\n",
        "\n",
        "    #jesli dalej jakis waartosci nie ma to dopisujemy\n",
        "    while k < len(arr):\n",
        "      temp_arr[k] = arr[k]\n",
        "      k += 1\n",
        "\n",
        "    #Zamieniamy tablice\n",
        "    arr, temp_arr = temp_arr, arr\n",
        "    step *= 2 # Aby scalac wieksze tablice\n",
        "\n",
        "  return arr\n"
      ],
      "metadata": {
        "id": "9_AM6k3N93wg"
      },
      "execution_count": 15,
      "outputs": []
    },
    {
      "cell_type": "code",
      "source": [
        "test_sorting_algorithm(mergeSortBest)"
      ],
      "metadata": {
        "colab": {
          "base_uri": "https://localhost:8080/"
        },
        "id": "aBaSVG-5934B",
        "outputId": "0680cda4-11f4-475b-8f52-c251920bf681"
      },
      "execution_count": 16,
      "outputs": [
        {
          "output_type": "stream",
          "name": "stdout",
          "text": [
            "mergeSortBest correctly sorted 1000 elements in 0.001259 seconds.\n"
          ]
        }
      ]
    },
    {
      "cell_type": "markdown",
      "source": [
        "## **Heap Sort (Sortowanie przez kopcowanie)**\n"
      ],
      "metadata": {
        "id": "U2MjTV-u_eat"
      }
    },
    {
      "cell_type": "markdown",
      "source": [
        "### Stable? No"
      ],
      "metadata": {
        "id": "c8yXheBCvwtN"
      }
    },
    {
      "cell_type": "markdown",
      "source": [
        "### Implementation (using class Max Heap)"
      ],
      "metadata": {
        "id": "qKqDpfrrvwtO"
      }
    },
    {
      "cell_type": "code",
      "source": [
        "class MaxHeap:\n",
        "  def __init__ (self,values=None):\n",
        "    self.heap = values\n",
        "    self.build_heap()\n",
        "\n",
        "  @property\n",
        "  def heap_size(self):\n",
        "    return len(self.heap)\n",
        "\n",
        "  @staticmethod\n",
        "  def left_child_idx(curr_idx):\n",
        "    return 2*curr_idx + 1\n",
        "\n",
        "\n",
        "  @staticmethod\n",
        "  def right_child_idx(curr_idx):\n",
        "    return 2*curr_idx + 2\n",
        "\n",
        "  def swap(self,i,j):\n",
        "    self.heap[i], self.heap[j] = self.heap[j], self.heap[i]\n",
        "\n",
        "  def max_heapify(self,curr_idx,end_idx):\n",
        "    while True:\n",
        "      left_idx = self.left_child_idx(curr_idx)\n",
        "      right_idx = self.right_child_idx(curr_idx)\n",
        "      largest_idx = curr_idx\n",
        "      if left_idx < end_idx:\n",
        "            if self.heap[left_idx] > self.heap[curr_idx]:\n",
        "              largest_idx = left_idx\n",
        "            if right_idx < end_idx and self.heap[right_idx] > self.heap[largest_idx]:\n",
        "              largest_idx = right_idx\n",
        "      if largest_idx != curr_idx:\n",
        "        self.swap(curr_idx,largest_idx)\n",
        "        curr_idx = largest_idx\n",
        "      else:\n",
        "        break\n",
        "\n",
        "\n",
        "  def build_heap(self):\n",
        "    for i in range((len(self.heap)-1) // 2,-1,-1):\n",
        "      self.max_heapify(i,self.heap_size)\n",
        "\n",
        "def heapSort(arr):\n",
        "  max_heap = MaxHeap(arr)\n",
        "  for i in range(len(arr) - 1,0,-1):\n",
        "    arr[i], arr[0] = arr[0], arr[i]\n",
        "    max_heap.max_heapify(0,i)\n",
        "  return arr\n"
      ],
      "metadata": {
        "id": "ozIgyA_rvwtO"
      },
      "execution_count": 19,
      "outputs": []
    },
    {
      "cell_type": "code",
      "source": [
        "test_sorting_algorithm(heapSort)"
      ],
      "metadata": {
        "colab": {
          "base_uri": "https://localhost:8080/"
        },
        "outputId": "3903a0fb-13b1-4b39-bb3c-36f7d9ce5984",
        "id": "FsbOy2WBvwtP"
      },
      "execution_count": 20,
      "outputs": [
        {
          "output_type": "stream",
          "name": "stdout",
          "text": [
            "heapSort correctly sorted 1000 elements in 0.005013 seconds.\n"
          ]
        }
      ]
    },
    {
      "cell_type": "markdown",
      "source": [
        "### Implementation (without class)"
      ],
      "metadata": {
        "id": "G_6AQ9Vu8Fjr"
      }
    },
    {
      "cell_type": "code",
      "source": [
        "left_idx = lambda i: 2*i+1\n",
        "right_idx = lambda i: 2*i+2\n",
        "\n",
        "def max_heapify(arr, curr_idx, end_idx):\n",
        "  while True:\n",
        "    left = left_idx(curr_idx)\n",
        "    right = right_idx(curr_idx)\n",
        "    largest_idx = curr_idx\n",
        "\n",
        "    if left < end_idx:\n",
        "      if arr[left] > arr[curr_idx]:\n",
        "        largest_idx = left\n",
        "      if right < end_idx and arr[right] > arr[largest_idx]:\n",
        "        largest_idx = right\n",
        "\n",
        "    if largest_idx != curr_idx:\n",
        "      arr[curr_idx], arr[largest_idx] = arr[largest_idx], arr[curr_idx]\n",
        "      curr_idx = largest_idx\n",
        "    else:\n",
        "      return\n",
        "\n",
        "def build_heap(arr):\n",
        "  for i in range((len(arr)-1) // 2,-1,-1):\n",
        "    max_heapify(arr,i,len(arr))\n",
        "\n",
        "def heapSort(arr):\n",
        "  build_heap(arr)\n",
        "  for i in range(len(arr)-1,0,-1):\n",
        "    arr[i], arr[0] = arr[0], arr[i]\n",
        "    max_heapify(arr,0,i)\n",
        "  return arr"
      ],
      "metadata": {
        "id": "8PfmgoPr8E3N"
      },
      "execution_count": 23,
      "outputs": []
    },
    {
      "cell_type": "code",
      "source": [
        "test_sorting_algorithm(heapSort)"
      ],
      "metadata": {
        "colab": {
          "base_uri": "https://localhost:8080/"
        },
        "id": "eAGv0cY29tjr",
        "outputId": "9a16f3cd-c338-4b58-88bb-2399692daef5"
      },
      "execution_count": 24,
      "outputs": [
        {
          "output_type": "stream",
          "name": "stdout",
          "text": [
            "heapSort correctly sorted 1000 elements in 0.002732 seconds.\n"
          ]
        }
      ]
    },
    {
      "cell_type": "markdown",
      "source": [
        "## **Quick Sort (Sortowanie szybkie)**"
      ],
      "metadata": {
        "id": "aQnBHQog_kUF"
      }
    },
    {
      "cell_type": "markdown",
      "source": [
        "### Time complexity"
      ],
      "metadata": {
        "id": "dlBJtIHXwvlH"
      }
    },
    {
      "cell_type": "markdown",
      "source": [
        "#### Best case\n",
        "\n",
        "$ O(log(n)) $\n"
      ],
      "metadata": {
        "id": "PuvFgapjxInd"
      }
    },
    {
      "cell_type": "markdown",
      "source": [
        "####  Worst case\n",
        "$ O(n) $ - pivot wrongly selected"
      ],
      "metadata": {
        "id": "isKFrUHHxInf"
      }
    },
    {
      "cell_type": "markdown",
      "source": [
        "# Stable? No"
      ],
      "metadata": {
        "id": "domkZT2trs47"
      }
    },
    {
      "cell_type": "markdown",
      "source": [
        "### Implementation (Last element as pivot, Lomuto)\n"
      ],
      "metadata": {
        "id": "KvwgOEuKwvlI"
      }
    },
    {
      "cell_type": "code",
      "source": [
        "def quickSort(arr):\n",
        "  _quickSort(arr,0,len(arr)-1)\n",
        "\n",
        "def _quickSort(arr, left_idx, right_idx):\n",
        "  while left_idx<right_idx:\n",
        "    pivot_position = partition(arr,left_idx,right_idx)\n",
        "    _quickSort(arr,left_idx,pivot_position-1)\n",
        "    left_idx = pivot_position + 1 # usunięta rekursja ogonowa\n",
        "    '''Bez usuwania rekursji ogonowej'''\n",
        "#     if left_idx < right_idx:\n",
        "#         pivot_position = partition(arr, left_idx, right_idx)\n",
        "#         _quick_sort(arr, left_idx, pivot_position - 1)\n",
        "#         _quick_sort(arr, pivot_position + 1, right_idx)\n",
        "\n",
        "'''Lomuto'''\n",
        "def partition(arr,left_idx,right_idx):\n",
        "  pivot = arr[right_idx]\n",
        "\n",
        "  i = left_idx - 1\n",
        "  for j in range(left_idx, right_idx):\n",
        "    if arr[j] < pivot:\n",
        "      i += 1\n",
        "      swap(arr,i,j)\n",
        "\n",
        "\n",
        "  swap(arr,i+1,right_idx)\n",
        "\n",
        "  return i+1\n",
        "\n",
        "def swap(arr,i,j):\n",
        "  arr[i], arr[j] = arr[j], arr[i]"
      ],
      "metadata": {
        "id": "8iTRlUKyykpg"
      },
      "execution_count": 25,
      "outputs": []
    },
    {
      "cell_type": "code",
      "source": [
        "test_sorting_algorithm(quickSort,in_place=True)"
      ],
      "metadata": {
        "colab": {
          "base_uri": "https://localhost:8080/"
        },
        "id": "AtspSawl7JVT",
        "outputId": "059617b8-102c-4b15-9f53-990568f39c42"
      },
      "execution_count": 27,
      "outputs": [
        {
          "output_type": "stream",
          "name": "stdout",
          "text": [
            "quickSort correctly sorted 1000 elements in 0.001502 seconds.\n"
          ]
        }
      ]
    },
    {
      "cell_type": "markdown",
      "source": [
        "### Implementation (Last element as pivot, Hoare)"
      ],
      "metadata": {
        "id": "eqR8Q25x71_y"
      }
    },
    {
      "cell_type": "code",
      "source": [
        "def quickSort(arr):\n",
        "  _quickSort(arr,0,len(arr)-1)\n",
        "\n",
        "def _quickSort(arr, left_idx, right_idx):\n",
        "  while left_idx<right_idx:\n",
        "    pivot_position = partition(arr,left_idx,right_idx)\n",
        "    _quickSort(arr,left_idx,pivot_position), '<- zamiast pivot_position-1 samo pivot_position'\n",
        "    left_idx = pivot_position + 1 # usunięta rekursja ogonowa\n",
        "\n",
        "'''Wersja Hoare'a'''\n",
        "def partition(arr,left_idx,right_idx):\n",
        "  pivot = arr[left_idx]\n",
        "\n",
        "  i = left_idx - 1\n",
        "  j = right_idx + 1\n",
        "  while True:\n",
        "    i += 1\n",
        "    while arr[i] < pivot: i += 1\n",
        "\n",
        "    j -= 1\n",
        "    while arr[j] > pivot: j -= 1\n",
        "\n",
        "    if i<j:\n",
        "      swap(arr, i, j)\n",
        "    else:\n",
        "      return j\n",
        "\n",
        "def swap(arr,i,j):\n",
        "  arr[i], arr[j] = arr[j], arr[i]"
      ],
      "metadata": {
        "id": "zCpBHLWY71ZG"
      },
      "execution_count": 29,
      "outputs": []
    },
    {
      "cell_type": "code",
      "source": [
        "test_sorting_algorithm(quickSort,in_place=True)"
      ],
      "metadata": {
        "colab": {
          "base_uri": "https://localhost:8080/"
        },
        "id": "mlR2oMc9-SL6",
        "outputId": "1082b413-62b2-4126-a208-4cc490deb6c3"
      },
      "execution_count": 30,
      "outputs": [
        {
          "output_type": "stream",
          "name": "stdout",
          "text": [
            "quickSort correctly sorted 1000 elements in 0.001156 seconds.\n"
          ]
        }
      ]
    },
    {
      "cell_type": "markdown",
      "source": [
        "# **Algorithms with $ O(n) $ complexity**"
      ],
      "metadata": {
        "id": "a2k1NDhs_5r4"
      }
    },
    {
      "cell_type": "markdown",
      "source": [
        "## **Counting Sort (Sortowanie przez zliczanie)**"
      ],
      "metadata": {
        "id": "OJEL3lry_8Sp"
      }
    },
    {
      "cell_type": "markdown",
      "source": [
        "### Time complexity $ O(n + k) $\n"
      ],
      "metadata": {
        "id": "DNld4lPmv52S"
      }
    },
    {
      "cell_type": "markdown",
      "source": [
        "### Space complexity $ O(n + k) $\n",
        "\n"
      ],
      "metadata": {
        "id": "lxkxDSEJv52T"
      }
    },
    {
      "cell_type": "markdown",
      "source": [
        "### Stable?"
      ],
      "metadata": {
        "id": "zhC4r6NPv52T"
      }
    },
    {
      "cell_type": "markdown",
      "source": [
        "### Implementacja 1 ( Nieujemne wartości i po prostu funkcja max, bez użycia po i append, z robieniem sumy prefiksowej)"
      ],
      "metadata": {
        "id": "TecRoPD3v52T"
      }
    },
    {
      "cell_type": "code",
      "source": [
        "def countingSort(arr):\n",
        "  max_value = max(arr)\n",
        "  # Tablica do zliczania\n",
        "  counts = [0] * (max_value + 1)\n",
        "  #Zliczamy wystąpienia\n",
        "  for val in arr:\n",
        "    counts[val]+=1\n",
        "  # Mofyfikacja tablicy aby wskazywala ile wrtosci jest nie wiekszych niz dana\n",
        "  for i in range(1,len(counts)):\n",
        "    counts[i] += counts[i-1]\n",
        "  # Tablica pomocnicza\n",
        "  temp = [None] * len(arr)\n",
        "  # Przepisujemy wartosci do temporary\n",
        "  for i in range(len(arr)-1,-1,-1):\n",
        "    counts[arr[i]] -= 1 # zaznazamy w counts ze spotkana juz raz\n",
        "    temp[counts[arr[i]]] = arr[i] # przypisujemy odpowiedia wartosc\n",
        "    # dzieki uzyciu tablicy prefiksowej bedziemy za kazdym razem wiedizc gdzie wpisac wartosc\n",
        "  #Przepisujemy posortowane wartosci\n",
        "  for i in range(len(temp)):\n",
        "    arr[i] = temp[i]\n",
        "  return arr"
      ],
      "metadata": {
        "id": "q7CdawMcv9Jw"
      },
      "execution_count": 31,
      "outputs": []
    },
    {
      "cell_type": "code",
      "source": [
        "arr = generate_data(data_type='random',max_value=10,size =20)\n",
        "print(arr)\n",
        "countingSort(arr)\n",
        "print(arr)"
      ],
      "metadata": {
        "colab": {
          "base_uri": "https://localhost:8080/"
        },
        "id": "I0y1ofw63q6B",
        "outputId": "85959ecf-469d-478f-cb7a-4b4a7c9aa156"
      },
      "execution_count": null,
      "outputs": [
        {
          "output_type": "stream",
          "name": "stdout",
          "text": [
            "[2, 3, 5, 3, 7, 0, 2, 0, 4, 7, 4, 9, 7, 6, 2, 0, 7, 9, 6, 2]\n",
            "[0, 0, 0, 2, 2, 2, 2, 3, 3, 4, 4, 5, 6, 6, 7, 7, 7, 7, 9, 9]\n"
          ]
        }
      ]
    },
    {
      "cell_type": "markdown",
      "source": [
        "### Implementacja 2 (  Nieujemne wartości i po prostu funkcja max, używamy pop i append(mniej efektywne))"
      ],
      "metadata": {
        "id": "7fPgPyMV4WJN"
      }
    },
    {
      "cell_type": "code",
      "source": [
        "def countingSort(arr):\n",
        "  max_value = max(arr)\n",
        "  count = [0] * (max_value + 1)\n",
        "\n",
        "  while len(arr) > 0:\n",
        "    num = arr.pop(0)\n",
        "    count[num] += 1\n",
        "\n",
        "  for i in range(len(count)):\n",
        "    while count[i] > 0:\n",
        "      arr.append(i)\n",
        "      count[i] -= 1\n",
        "  return arr\n"
      ],
      "metadata": {
        "id": "KttANKQ24VpJ"
      },
      "execution_count": null,
      "outputs": []
    },
    {
      "cell_type": "code",
      "source": [
        "arr = generate_data(data_type='random',max_value=10,size =20)\n",
        "print(arr)\n",
        "countingSort(arr)\n",
        "print(arr)"
      ],
      "metadata": {
        "colab": {
          "base_uri": "https://localhost:8080/"
        },
        "id": "GHQ22bMtBQ9p",
        "outputId": "d81200b1-ad6c-4ca7-be4a-42af2a7987eb"
      },
      "execution_count": null,
      "outputs": [
        {
          "output_type": "stream",
          "name": "stdout",
          "text": [
            "[5, 6, 1, 10, 8, 8, 3, 6, 2, 7, 7, 9, 9, 4, 1, 8, 4, 8, 5, 5]\n",
            "[1, 1, 2, 3, 4, 4, 5, 5, 5, 6, 6, 7, 7, 8, 8, 8, 8, 9, 9, 10]\n"
          ]
        }
      ]
    },
    {
      "cell_type": "markdown",
      "source": [
        "### Implementacja 3 ( ujemne wartości, liniowe wyszukiwanie wartości najmniejszej i największej )"
      ],
      "metadata": {
        "id": "-cKSb2M_BzZw"
      }
    },
    {
      "cell_type": "code",
      "source": [
        "def countingSort(arr):\n",
        "  min_,max_ = minmax(arr)\n",
        "  _countingSort(arr,min_,max_)\n",
        "\n",
        "def minmax(arr):\n",
        "  global_min = global_max = arr[-1]\n",
        "\n",
        "  for i in range(0,len(arr)-1,2):\n",
        "    if arr[i] > arr[i+1]:\n",
        "      if arr[i] > global_max: global_max = arr[i]\n",
        "      if arr[i+1] < global_min: global_min = arr[i+1]\n",
        "    else:\n",
        "      if arr[i+1] > global_max: global_max = arr[i+1]\n",
        "      if arr[i] < global_min: global_min = arr[i]\n",
        "  return global_min, global_max\n",
        "\n",
        "def _countingSort(arr,min_,max_):\n",
        "  arr = arr[:]\n",
        "  counts = [0] * (max_ - min_ + 1)\n",
        "  temp = [None] * len(arr)\n",
        "  for val in arr:\n",
        "    counts[val - min_] += 1\n",
        "  #metoda z suma prefiksowa\n",
        "  for i in range(1, len(counts)):\n",
        "    counts[i] += counts[i-1]\n",
        "  for i in range(len(arr)-1, -1, -1):\n",
        "    counts[arr[i] - min_] -= 1\n",
        "    temp[counts[arr[i] - min_]] = arr[i]\n",
        "  for i in range(len(arr)):\n",
        "    arr[i] = temp [i]\n",
        "  return arr"
      ],
      "metadata": {
        "id": "I87WJEsKByvj"
      },
      "execution_count": null,
      "outputs": []
    },
    {
      "cell_type": "code",
      "source": [
        "test_sorting_algorithms(countingSort)"
      ],
      "metadata": {
        "colab": {
          "base_uri": "https://localhost:8080/"
        },
        "id": "oaE-HGDEE79T",
        "outputId": "3a170c40-3f27-48e4-aed4-c53c45c19eb5"
      },
      "execution_count": null,
      "outputs": [
        {
          "output_type": "stream",
          "name": "stdout",
          "text": [
            "[-10, 6, 1, -9, 6, -9, -11, -7, 3, 4, -16, -4, -12, -8, -5, 8, -10, -5, -19, -8]\n",
            "[-19, -16, -12, -11, -10, -10, -9, -9, -8, -8, -7, -5, -5, -4, 1, 3, 4, 6, 6, 8]\n"
          ]
        }
      ]
    },
    {
      "cell_type": "markdown",
      "source": [
        "## **Radix Sort (Sortowanie pozycyjne)**"
      ],
      "metadata": {
        "id": "Uytbo5GuACDO"
      }
    },
    {
      "cell_type": "markdown",
      "source": [
        "### Działanie"
      ],
      "metadata": {
        "id": "eB0y3xRLG2JW"
      }
    },
    {
      "cell_type": "markdown",
      "source": [
        "1. Zacznij od najmniej znaczącej cyfry (najbardziej prawej cyfry).  \n",
        "2. Posortuj wartości na podstawie aktualnie analizowanej cyfry – umieszczając je najpierw w odpowiednich \"kubełkach\" według tej cyfry, a następnie przepisując je z powrotem do tablicy w odpowiedniej kolejności.  \n",
        "3. Przejdź do kolejnej cyfry i ponownie posortuj dane według tej cyfry, tak jak w poprzednim kroku. Powtarzaj, aż wszystkie cyfry zostaną przetworzone."
      ],
      "metadata": {
        "id": "0vFt4to-J9YZ"
      }
    },
    {
      "cell_type": "markdown",
      "source": [
        "### Ograniczenia i założenia\n",
        "\n",
        "- Dane wejściowe musi się dać podzielić na poszczególne fragmenty, odpowiadające pojednyczej cyfrze (lub pojedynczemu znakowi w przypadku sortowania tekstu),(tylko liczby całkowite)\n",
        "\n",
        "- Algorytm pomocniczy, przy pomocy którego będziemy sortować wartości według znaków (poszczególnych cyfr), musi mieć niską złożoność i, przede wszystkim, być stabilny (tylko wtedy Radix Sort działa prawidłowo)."
      ],
      "metadata": {
        "id": "uFg-BpoQGyRV"
      }
    },
    {
      "cell_type": "markdown",
      "source": [
        "\n",
        "\n",
        "\n",
        "\n"
      ],
      "metadata": {
        "id": "iw4J3j4uGyRW"
      }
    },
    {
      "cell_type": "markdown",
      "source": [
        "### Złożoność czasowa\n"
      ],
      "metadata": {
        "id": "yGblt-gqGyRW"
      }
    },
    {
      "cell_type": "markdown",
      "source": [
        "Każdy przypadek: $ O(d * ( n + b)) $\n",
        "\n",
        "$ d $ - $ log_b(k)$, gdzie $ k $ - maksymalna wartość w sortowanej tablicy,\n",
        "\n",
        "$ n $ - liczba elementów w sortowanej tablicy,\n",
        "\n",
        "$ b $ - podstawa systemu liczbowego, w jakim odbywa się sortowanie (bo tyle elementów będzie miała tablica, służąca do zliczania powrótek wartości (Radix Sort zazwyczaj korzysta z Counting Sorta) (W przypadku sortowania tekstu, jako podstawę przyjmujemy różnicę między największym kodem ASCII liter a najmniejszym (plus **1**\n",
        "), zwykle będzie to liczba **26**\n",
        ", ponieważ tyle jest małych liter alfabetu łacińskiego. Samo sortowanie wygląda jednak nieco inaczej niż w przypadku sortowania liczb))"
      ],
      "metadata": {
        "id": "wi7E8ge2HoMz"
      }
    },
    {
      "cell_type": "markdown",
      "source": [
        "### Złożoność pamięciowa\n"
      ],
      "metadata": {
        "id": "JVjHNOk4GyRW"
      }
    },
    {
      "cell_type": "markdown",
      "source": [
        "Każdy przypadek: $ O(n + b) $\n",
        "\n",
        "$ n $ -  liczba sortowanych elementów (tyle elementów będzie miała tablica temp),\n",
        "\n",
        "$ b $ - podstawa systemu liczbowego (tyle elementów będzie miała tablica count). Podstawa ta może być dowolna (nie musimy koniecznie sortować liczb dziesiętnych, biorąc za podstawę systemu liczbowego wartość $ b $ = 10)"
      ],
      "metadata": {
        "id": "BjxVgSROHFJF"
      }
    },
    {
      "cell_type": "markdown",
      "source": [
        "### Sortowanie w miejscu? - Nie\n",
        "\n",
        "Zawsze musimy użyć dodatkowej pamięci, która jest zależna od danych wejściowych (tu od liczby elementów do posortowania oraz liczby unikatowych wartości z tego przedziału, do którego należą sortowane wartości)."
      ],
      "metadata": {
        "id": "xoGBh3vgGyRW"
      }
    },
    {
      "cell_type": "markdown",
      "source": [
        "### Implementacja 1 (dla podstawy 10, pomocniczy - Counting sort, nieujemne całkwoite)"
      ],
      "metadata": {
        "id": "MpRJ-7H_LO8q"
      }
    },
    {
      "cell_type": "code",
      "source": [
        "def helperCountingSort(arr, digit_place):\n",
        "  counts = [0] * 10\n",
        "  temp = [None] * len(arr)\n",
        "  for value in arr:\n",
        "    digit = (value // digit_place) % 10\n",
        "    counts[digit] += 1\n",
        "  for i in range(1,10):\n",
        "    counts[i] += counts[i-1]\n",
        "  for i in range(len(arr) - 1, -1, -1):\n",
        "    digit = (arr[i] // digit_place) % 10\n",
        "    counts[digit] -= 1\n",
        "    temp[counts[digit]] = arr[i]\n",
        "  for i in range(len(arr)):\n",
        "    arr[i]=temp[i]\n",
        "\n",
        "def radixSort(arr):\n",
        "  max_value = _max(arr)\n",
        "  digit_place = 1\n",
        "  while max_value >= digit_place:\n",
        "    helperCountingSort(arr, digit_place)\n",
        "    digit_place *= 10\n",
        "\n",
        "\n",
        "def _max(arr):\n",
        "  max_value = arr[0]\n",
        "  for i in range(1,len(arr)):\n",
        "    if arr[i] > max_value: max_value = arr[i]\n",
        "  return max_value"
      ],
      "metadata": {
        "id": "BV-TExnDLztJ"
      },
      "execution_count": null,
      "outputs": []
    },
    {
      "cell_type": "code",
      "source": [
        "arr = generate_data(data_type='random',max_value=10,size =20)\n",
        "print(arr)\n",
        "radixSort(arr)\n",
        "print(arr)"
      ],
      "metadata": {
        "colab": {
          "base_uri": "https://localhost:8080/"
        },
        "id": "9bgifO3dLzzP",
        "outputId": "77fdabfe-65ba-42fb-ad05-ac4fbbb87a7c"
      },
      "execution_count": null,
      "outputs": [
        {
          "output_type": "stream",
          "name": "stdout",
          "text": [
            "[3, 1, 10, 10, 3, 8, 6, 9, 6, 6, 2, 9, 6, 4, 5, 9, 5, 8, 6, 8]\n",
            "[1, 2, 3, 3, 4, 5, 5, 6, 6, 6, 6, 6, 8, 8, 8, 9, 9, 9, 10, 10]\n"
          ]
        }
      ]
    },
    {
      "cell_type": "markdown",
      "source": [
        "### Implementacja 2 (dowolna podstawa ( w której sortujemy), pomocniczy - Counting sort, nieujemne całkwoite)"
      ],
      "metadata": {
        "id": "t-b3dPhPLz7h"
      }
    },
    {
      "cell_type": "code",
      "source": [
        "def helperCountingSort(arr, base, digit_place):\n",
        "  counts = [0] * base\n",
        "  temp = [None] * len(arr)\n",
        "  for value in arr:\n",
        "    digit = (value // digit_place) % base\n",
        "    counts[digit] += 1\n",
        "  for i in range(1,10):\n",
        "    counts[i] += counts[i-1]\n",
        "  for i in range(len(arr) - 1, -1, -1):\n",
        "    digit = (arr[i] // digit_place) % base\n",
        "    counts[digit] -= 1\n",
        "    temp[counts[digit]] = arr[i]\n",
        "  for i in range(len(arr)):\n",
        "    arr[i]=temp[i]\n",
        "\n",
        "def radixSort(arr, base=10): # domyslnie w 10 , mozna zmienic\n",
        "  max_value = _max(arr)\n",
        "  digit_place = 1\n",
        "  while max_value >= digit_place:\n",
        "    helperCountingSort(arr, base, digit_place)\n",
        "    digit_place *= base\n",
        "\n",
        "\n",
        "def _max(arr):\n",
        "  max_value = arr[0]\n",
        "  for i in range(1,len(arr)):\n",
        "    if arr[i] > max_value: max_value = arr[i]\n",
        "  return max_value"
      ],
      "metadata": {
        "id": "CUFTYVhqL99A"
      },
      "execution_count": null,
      "outputs": []
    },
    {
      "cell_type": "code",
      "source": [
        "arr = generate_data(data_type='random',max_value=10,size =20)\n",
        "print(arr)\n",
        "radixSort(arr)\n",
        "print(arr)"
      ],
      "metadata": {
        "colab": {
          "base_uri": "https://localhost:8080/"
        },
        "id": "qyNAgf9ZL-BX",
        "outputId": "f39db77a-8403-4312-fada-3a84c7788c57"
      },
      "execution_count": null,
      "outputs": [
        {
          "output_type": "stream",
          "name": "stdout",
          "text": [
            "[0, 10, 7, 9, 10, 7, 3, 7, 7, 4, 0, 2, 0, 5, 8, 3, 1, 4, 0, 6]\n",
            "[0, 0, 0, 0, 1, 2, 3, 3, 4, 4, 5, 6, 7, 7, 7, 7, 8, 9, 10, 10]\n"
          ]
        }
      ]
    },
    {
      "cell_type": "markdown",
      "source": [
        "## **Bucket Sort (Sortowanie kubełkowe)**"
      ],
      "metadata": {
        "id": "74ud5C2TAnWG"
      }
    },
    {
      "cell_type": "markdown",
      "source": [
        "### Ograniczenia i założenia\n"
      ],
      "metadata": {
        "id": "0HUO3v7R4Wly"
      }
    },
    {
      "cell_type": "markdown",
      "source": [
        "- MAMY PEWNOŚĆ, że otrzymujemy dane wejściowe o ROZKŁADZIE JEDNOSTAJNYM. Oznacza to, że każde z wiaderek, na które podzielimy dane wejściowe (w czasie liniowym), będzie zawierało zbliżoną liczbę elementów do pozostałych wiaderek,\n",
        "- Tak naprawdę algorytm sortowania Bucket Sort sam w sobie nie jest algorytmem sortowania, a jedynie algorytmem, który dzieli dane wejściowe na mniejsze, szybsze i łatwiejsze w sortowaniu zbiory danych,\n",
        "- Podzielone na wiaderka dane musimy posortować jakimś wydajnym (w zależności od liczby elementów w wiaderku) algorytmem. Jeżeli liczba elementów jest niewielka, najlepiej się sprawdzi uniwersalny algorytm sortowania, jakim jest Insertion Sort (dla małych danych algorytm ten jest szybki, poza tym, jest to stabilny algorytm sortowania, więc możemy otrzymać stabilną wersję Bucket Sorta i jeszcze jedno, dla prawie posortowanych danych, złożoność Insertion Sorta jest liniowa, a więc istnieje największa szansa, że użycie tego prostego algorytmu o średniej złożoności obliczeniowej $ O(n^2) $\n",
        ", spowoduje posortowanie niektórych wiaderek w czasie liniowym), natomiast dla większych wiaderek, lepiej wykorzystać jakiś algorytm o złożoności $ O(n * log(n)) $\n",
        ",\n",
        "- Warto dodać, że jeżeli pojemniki (wiaderka) zawierają liczby całkowite lub ciągi tekstowe, można wykorzystać np. Radix Sorta do posortowania każdego z pojemników lub Counting Sorta, jeżeli zakres liczb jest niewielki, a liczb o powtarzającej się wartości jest dużo,\n",
        "- Ponieważ nie mamy pewności, ile dokładnie elementów trafi do danego pojemnika, nie opłaca się alokować pamięci \"na sztywno\" dla każdego z pojemników."
      ],
      "metadata": {
        "id": "t3fVE3bu5R81"
      }
    },
    {
      "cell_type": "markdown",
      "source": [
        "### Działanie"
      ],
      "metadata": {
        "id": "hyTda2Op4Wlx"
      }
    },
    {
      "cell_type": "markdown",
      "source": [
        "1. Podziel zadany przedział liczb na k podprzedziałów (kubełków) o równej długości.\n",
        "\n",
        "2. Przypisz liczby z sortowanej tablicy do odpowiednich kubełków.\n",
        "\n",
        "3. Sortuj liczby w niepustych kubełkach.\n",
        "\n",
        "4. Wypisz po kolei zawartość niepustych kubełków."
      ],
      "metadata": {
        "id": "pgslkocH58dD"
      }
    },
    {
      "cell_type": "markdown",
      "source": [
        "### Złożoność czasowa\n"
      ],
      "metadata": {
        "id": "F2DUdN994Wly"
      }
    },
    {
      "cell_type": "markdown",
      "source": [
        "#### Najlepszy przypadek\n",
        "\n",
        "$ O(n + k) $\n",
        "\n",
        "$ O(n) $ - czas utworzenia kubełków (jest on tyle równy\n",
        ", ponieważ zawsze liczba kubełków powinna zależeć od wielkości danych wejściowych oraz konieczne jest liniowe przejście po tablicy i umieszczenie wartości w odpowiednich wiaderkach)\n",
        "\n",
        " $ O(k) $- czas sortowania wszystkich kubełków (zależny od liczby kubełków) (przyjmujemy, że czas sortowania pojedynczego kubełka jest w przybliżeniu stały, ponieważ zawiera on niewielką liczbę elementów; dokładniej, to skoro $ kn $\n",
        ", to iloraz $ n/k $\n",
        "\n",
        ", który wynosi tyle, ile przybliżona liczba elementów, które przypadają na jeden kubełek, jest stały (zwykle ustalamy tę liczbę odgórnie, zamiast liczby kubełków))\n",
        "\n",
        "UWAGA:\n",
        "Aby osiągnąć złożoność liniową, musimy ustalić tak wartość $ k $\n",
        ", aby zależała ona od $ n $\n",
        "."
      ],
      "metadata": {
        "id": "ESInquxC-cdz"
      }
    },
    {
      "cell_type": "markdown",
      "source": [
        "#### Najgorszy przypadek\n",
        "\n",
        "$ O(n^2) $\n",
        "\n",
        "W praktyce, przy dobrym doborze wiaderek, istnieje niewielka szansa na osiągnięcie złożoności $ O(n^2) $\n",
        ". Złożoność będzie tym bliższa złożoności pesymistycznej ( $ O(n^2) $\n",
        "), im więcej wartości trafi do pojedynczego wiaderka (w szczególności, gdy wszystkie wartości znajdą się w jednym wiaderku, a wiaderka sortujemy algorytmem o złożoności $ O(n^2) $\n",
        ")"
      ],
      "metadata": {
        "id": "Z4HuF3H5-cmq"
      }
    },
    {
      "cell_type": "markdown",
      "source": [
        "### Złożoność pamięciowa\n"
      ],
      "metadata": {
        "id": "0TDpypMa4Wlz"
      }
    },
    {
      "cell_type": "markdown",
      "source": [
        "Każdy przypadek: $ O(n + k) $\n",
        "\n",
        "Zależy od liczby elementów, jakie otrzymujemy w tablicy do posortowania oraz od liczby kubełków, jakie tworzymy. Ponieważ powinniśmy dobrać tak liczbę kubełków  $ k $\n",
        ", aby $ k = θ(n)$\n",
        " (asymptotycznie $ k $\n",
        " musi być liniowe względem rozmiaru tablicy do posortowania), otrzymamy złożoność pamięciową $ O(n+n) = O(n) $"
      ],
      "metadata": {
        "id": "FBjVV0ZS6RsD"
      }
    },
    {
      "cell_type": "markdown",
      "source": [
        "### Sortowanie w miejscu? - Nie\n",
        "\n",
        "Zawsze musimy użyć dodatkowej pamięci, która jest zależna od danych wejściowych (tu od liczby elementów do posortowania oraz liczby wiaderek, która również zależy od wielkości danych wejściowych)."
      ],
      "metadata": {
        "id": "Ayiy_CKS4Wlz"
      }
    },
    {
      "cell_type": "markdown",
      "source": [
        "### Implementacja 1 (z góry podana liczba kubełków, przy pomocy Insertion Sort)"
      ],
      "metadata": {
        "id": "aeftaW3r4VPo"
      }
    },
    {
      "cell_type": "code",
      "source": [
        "def insertionSort(arr):\n",
        "  for i in range(1,len(arr)):\n",
        "    key = arr[i]\n",
        "    j = i - 1\n",
        "    while j >= 0 and arr[j] > key:\n",
        "      arr[j+1] = arr[j]\n",
        "      j -= 1\n",
        "    arr[j+1] = key\n",
        "  return arr\n",
        "\n",
        "def minmax(arr):\n",
        "  global_min = global_max = arr[-1]\n",
        "\n",
        "  for i in range(0,len(arr)-1,2):\n",
        "    if arr[i] > arr[i+1]:\n",
        "      if arr[i] > global_max: global_max = arr[i]\n",
        "      if arr[i+1] < global_min: global_min = arr[i+1]\n",
        "    else:\n",
        "      if arr[i+1] > global_max: global_max = arr[i+1]\n",
        "      if arr[i] < global_min: global_min = arr[i]\n",
        "  return global_min, global_max\n",
        "\n",
        "def get_bucket_index(num, min_val, bucket_range, k):\n",
        "  return min(k-1,int((num - min_val) / bucket_range))\n",
        "\n",
        "def bucketSort(arr,k):\n",
        "  _min,_max = minmax(arr)\n",
        "  bucket_range = (_max - _min) / k\n",
        "  buckets = [[] for _ in range(k)]\n",
        "  for num in arr:\n",
        "    idx = get_bucket_index(num, _min, bucket_range, k)\n",
        "    buckets[idx].append(num)\n",
        "\n",
        "  sorted_arr = []\n",
        "  for bucket in buckets:\n",
        "    #print(bucket)\n",
        "    sorted_arr.extend(insertionSort(bucket))\n",
        "\n",
        "  for i in range(len(arr)):\n",
        "    arr[i]=sorted_arr[i]"
      ],
      "metadata": {
        "id": "Mz_uhQBSCJDF"
      },
      "execution_count": null,
      "outputs": []
    },
    {
      "cell_type": "code",
      "source": [
        "arr = generate_data(data_type='random_float',max_value=10,size =20)\n",
        "print(arr)\n",
        "bucketSort(arr,10)\n",
        "print(arr)"
      ],
      "metadata": {
        "colab": {
          "base_uri": "https://localhost:8080/"
        },
        "id": "sy06ZgXjH7Og",
        "outputId": "0c0acde2-c6d1-41f8-a779-c49d00a62c9c"
      },
      "execution_count": null,
      "outputs": [
        {
          "output_type": "stream",
          "name": "stdout",
          "text": [
            "[3.65, 9.19, 1.3, 7.39, 7.72, 0.97, 2.3, 6.32, 0.99, 8.5, 3.74, 7.74, 8.22, 8.65, 6.95, 5.58, 6.33, 7.33, 3.5, 1.79]\n",
            "[0.97, 0.99, 1.3, 1.79, 2.3, 3.5, 3.65, 3.74, 5.58, 6.32, 6.33, 6.95, 7.33, 7.39, 7.72, 7.74, 8.22, 8.5, 8.65, 9.19]\n"
          ]
        }
      ]
    }
  ]
}