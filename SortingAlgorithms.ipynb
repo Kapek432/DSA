{
  "nbformat": 4,
  "nbformat_minor": 0,
  "metadata": {
    "colab": {
      "provenance": [],
      "collapsed_sections": [
        "B1hBeLjycN9K",
        "VM2aNK9jQlG8",
        "C7wRzc03T3-3",
        "UEU55I36Z_Bc",
        "c8OwJSkrb_07",
        "Ih9LoO98bFEh",
        "AK7UcyUWbFEi",
        "up-0nLsRcis7",
        "yVqzwiD6cis8",
        "7_FrTlufcis-",
        "hEN1DXTKBDc3",
        "BI_vxsEpm8YG",
        "jMpW8Zf9m8YG",
        "EuxrKR2nm8YH",
        "wOfonvZdyEOt",
        "z3YL3FsTyEOt",
        "HtWAwYnZyEOu",
        "BdwOrO8Q_anm",
        "3uJii0Rg3b_5",
        "dlBJtIHXwvlH",
        "DP8MS2grwvlI",
        "KvwgOEuKwvlI",
        "eqR8Q25x71_y",
        "IsB7o18Uv52R",
        "MpRJ-7H_LO8q"
      ],
      "toc_visible": true,
      "include_colab_link": true
    },
    "kernelspec": {
      "name": "python3",
      "display_name": "Python 3"
    },
    "language_info": {
      "name": "python"
    }
  },
  "cells": [
    {
      "cell_type": "markdown",
      "metadata": {
        "id": "view-in-github",
        "colab_type": "text"
      },
      "source": [
        "<a href=\"https://colab.research.google.com/github/Kapek432/DSA/blob/main/SortingAlgorithms.ipynb\" target=\"_parent\"><img src=\"https://colab.research.google.com/assets/colab-badge.svg\" alt=\"Open In Colab\"/></a>"
      ]
    },
    {
      "cell_type": "markdown",
      "source": [
        "## **Insertion Sort (Sortowanie przez wstawianie)**\n"
      ],
      "metadata": {
        "id": "a8szZqbYcis6"
      }
    },
    {
      "cell_type": "markdown",
      "source": [
        "# **Helper functions**"
      ],
      "metadata": {
        "id": "bj4-kWWCWAdf"
      }
    },
    {
      "cell_type": "markdown",
      "source": [
        "**Function to test sorting algorithms**"
      ],
      "metadata": {
        "id": "1gGs81fIWFT4"
      }
    },
    {
      "cell_type": "code",
      "source": [
        "import time\n",
        "import random\n",
        "\n",
        "def test_sorting_algorithm(sorting_function, size=1000, min_val=0, max_val=10000, seed=None, in_place=False):\n",
        "    \"\"\"\n",
        "    Tests a sorting algorithm.\n",
        "\n",
        "    :param sorting_function: The sorting function to be tested.\n",
        "    :param size: Number of elements in the test list.\n",
        "    :param min_val: Minimum value of elements.\n",
        "    :param max_val: Maximum value of elements.\n",
        "    :param seed: Random seed for reproducibility.\n",
        "    :param in_place: Set to True for in-place sorting algorithms.\n",
        "    \"\"\"\n",
        "    if seed is not None:\n",
        "        random.seed(seed)\n",
        "\n",
        "    test_data = [random.randint(min_val, max_val) for _ in range(size)]\n",
        "    expected_result = sorted(test_data)\n",
        "\n",
        "    start_time = time.time()\n",
        "\n",
        "    if in_place:\n",
        "        arr_copy = test_data[:]\n",
        "        sorting_function(arr_copy)\n",
        "        sorted_result = arr_copy\n",
        "    else:\n",
        "        sorted_result = sorting_function(test_data[:])\n",
        "\n",
        "    end_time = time.time()\n",
        "\n",
        "    assert sorted_result == expected_result, f\"Error: {sorting_function.__name__} produced incorrect results!\"\n",
        "\n",
        "    print(f\"{sorting_function.__name__} correctly sorted {size} elements in {end_time - start_time:.6f} seconds.\")\n"
      ],
      "metadata": {
        "id": "pmJKHAlRWPgP"
      },
      "execution_count": 1,
      "outputs": []
    },
    {
      "cell_type": "markdown",
      "source": [
        "# **Algorithms with $ O(n^2) $ complexity**"
      ],
      "metadata": {
        "id": "5AJwE7dDPjsu"
      }
    },
    {
      "cell_type": "markdown",
      "source": [
        "## **Bubble Sort (Sortowanie bąbelkowe)**\n",
        "\n"
      ],
      "metadata": {
        "id": "QrZ4jpEESy9j"
      }
    },
    {
      "cell_type": "markdown",
      "source": [
        "### Stable? - Yes"
      ],
      "metadata": {
        "id": "PrkEAGCWdFbI"
      }
    },
    {
      "cell_type": "markdown",
      "source": [
        "### Impelmentation"
      ],
      "metadata": {
        "id": "QxtMRTI7T-76"
      }
    },
    {
      "cell_type": "code",
      "execution_count": 2,
      "metadata": {
        "id": "s42yADMdPL1B"
      },
      "outputs": [],
      "source": [
        "def bubble_sort(arr):\n",
        "  arr = arr[:]\n",
        "  for i in range(len(arr) - 1):\n",
        "    for j in range(len(arr) - 1 - i):\n",
        "      if arr[j] > arr[j + 1]:\n",
        "        arr[j], arr[j+1] = arr[j+1], arr[j]\n",
        "  return arr"
      ]
    },
    {
      "cell_type": "code",
      "source": [
        "test_sorting_algorithm(bubble_sort)"
      ],
      "metadata": {
        "colab": {
          "base_uri": "https://localhost:8080/"
        },
        "id": "-I5jY_nvUDnp",
        "outputId": "cc691aa9-185f-41c0-c8d7-7741fa46d407"
      },
      "execution_count": 3,
      "outputs": [
        {
          "output_type": "stream",
          "name": "stdout",
          "text": [
            "bubble_sort correctly sorted 1000 elements in 0.139665 seconds.\n"
          ]
        }
      ]
    },
    {
      "cell_type": "markdown",
      "source": [
        "### Optimalization - early stopping\n"
      ],
      "metadata": {
        "id": "MDRtc87aUDvR"
      }
    },
    {
      "cell_type": "code",
      "source": [
        "def bubble_sort_optimized(arr):\n",
        "  arr = arr[:]\n",
        "  for i in range(len(arr)-1):\n",
        "    swapped = False\n",
        "    for j in range(len(arr)-1-i):\n",
        "      if arr[j] > arr[j+1]:\n",
        "        arr[j], arr[j+1] = arr[j+1], arr[j]\n",
        "        swapped = True\n",
        "    if not swapped:\n",
        "      return arr\n",
        "  return arr"
      ],
      "metadata": {
        "id": "qxADDHxWUVPI"
      },
      "execution_count": 4,
      "outputs": []
    },
    {
      "cell_type": "code",
      "source": [
        "test_sorting_algorithm(bubble_sort_optimized)"
      ],
      "metadata": {
        "colab": {
          "base_uri": "https://localhost:8080/"
        },
        "id": "MkODJ-4hUcaL",
        "outputId": "44de36d9-d4c5-4677-bbf4-aa9d16eeb157"
      },
      "execution_count": 5,
      "outputs": [
        {
          "output_type": "stream",
          "name": "stdout",
          "text": [
            "bubble_sort_optimized correctly sorted 1000 elements in 0.107684 seconds.\n"
          ]
        }
      ]
    },
    {
      "cell_type": "markdown",
      "source": [
        "## **Selection Sort (Sortowanie przez wybór)**\n"
      ],
      "metadata": {
        "id": "UEU55I36Z_Bc"
      }
    },
    {
      "cell_type": "markdown",
      "source": [
        "### Stable? - No"
      ],
      "metadata": {
        "id": "k1MptGA3c-HK"
      }
    },
    {
      "cell_type": "markdown",
      "source": [
        "### Implementation"
      ],
      "metadata": {
        "id": "1_FXiOlMbLOz"
      }
    },
    {
      "cell_type": "code",
      "source": [
        "def selection_sort(arr):\n",
        "    arr = arr[:]\n",
        "    for i in range(len(arr) - 1):\n",
        "        min_index = i\n",
        "        for j in range(i + 1, len(arr)):\n",
        "            if arr[j] < arr[min_index]:\n",
        "                min_index = j\n",
        "        arr[i], arr[min_index] = arr[min_index], arr[i]\n",
        "    return arr"
      ],
      "metadata": {
        "id": "Ng17zXrRbJpj"
      },
      "execution_count": 6,
      "outputs": []
    },
    {
      "cell_type": "code",
      "source": [
        "test_sorting_algorithm(selection_sort)"
      ],
      "metadata": {
        "colab": {
          "base_uri": "https://localhost:8080/"
        },
        "id": "eo007TT_bwz7",
        "outputId": "49328e08-d77e-43df-a6f8-139fb3edd1d4"
      },
      "execution_count": 7,
      "outputs": [
        {
          "output_type": "stream",
          "name": "stdout",
          "text": [
            "selection_sort correctly sorted 1000 elements in 0.093259 seconds.\n"
          ]
        }
      ]
    },
    {
      "cell_type": "markdown",
      "source": [
        "## **Insertion Sort (Sortowanie przez wstawianie)**\n"
      ],
      "metadata": {
        "id": "YVTQOjoqJRMW"
      }
    },
    {
      "cell_type": "markdown",
      "source": [
        "### Stable? - Yes"
      ],
      "metadata": {
        "id": "KdyEp3Vac1bR"
      }
    },
    {
      "cell_type": "markdown",
      "source": [
        "### Implementation"
      ],
      "metadata": {
        "id": "recp7xPOcis_"
      }
    },
    {
      "cell_type": "code",
      "source": [
        "def InsertionSort(arr):\n",
        "  arr = arr[:]\n",
        "  for i in range(1, len(arr)):\n",
        "    key = arr[i]\n",
        "    prev = i-1\n",
        "    while prev >= 0 and arr[prev] > key:\n",
        "      arr[prev+1] =arr[prev]\n",
        "      prev -= 1\n",
        "    arr[prev+1] = key\n",
        "  return arr"
      ],
      "metadata": {
        "id": "Sowev_qjcitA"
      },
      "execution_count": 8,
      "outputs": []
    },
    {
      "cell_type": "code",
      "source": [
        "test_sorting_algorithm(InsertionSort)"
      ],
      "metadata": {
        "colab": {
          "base_uri": "https://localhost:8080/"
        },
        "outputId": "24295618-179f-494b-8ebf-cecfb2b32099",
        "id": "yRcWF8CccitA"
      },
      "execution_count": 9,
      "outputs": [
        {
          "output_type": "stream",
          "name": "stdout",
          "text": [
            "InsertionSort correctly sorted 1000 elements in 0.078158 seconds.\n"
          ]
        }
      ]
    },
    {
      "cell_type": "markdown",
      "source": [
        "## **Cycle Sort (Sortowanie cykliczne)**"
      ],
      "metadata": {
        "id": "hEN1DXTKBDc3"
      }
    },
    {
      "cell_type": "markdown",
      "source": [
        "### Stable? - No"
      ],
      "metadata": {
        "id": "FJjwBBx_m8YH"
      }
    },
    {
      "cell_type": "markdown",
      "source": [
        "### Implementation"
      ],
      "metadata": {
        "id": "YZrvvY6Sm8YI"
      }
    },
    {
      "cell_type": "code",
      "source": [
        "def CycleSort(arr):\n",
        "  arr = arr[:]\n",
        "  writes = 0 # przechowuje liczbe zamian\n",
        "\n",
        "  # iterujemy przez tablice aby znalezc cykle\n",
        "  for cycleStart in range(0,len(arr)-1):\n",
        "    item = arr[cycleStart]\n",
        "    pos = cycleStart\n",
        "\n",
        "    #szukamy gdzie nalezy wstawic item\n",
        "    for i in range(cycleStart + 1, len(arr)):\n",
        "      if arr[i] < item:\n",
        "        pos += 1\n",
        "\n",
        "    #jesli pozycja == cycleStart to nie ma cyklu\n",
        "    if pos == cycleStart:\n",
        "      continue;\n",
        "\n",
        "    # jesli nie to wstaw item na pos lub dalej jesli sa duplikaty\n",
        "    while item == arr[pos]:\n",
        "      pos += 1\n",
        "    arr[pos], item = item, arr[pos]\n",
        "    writes += 1\n",
        "\n",
        "    #Teraz rotation dla pozostalej czeci cyklu\n",
        "    while pos != cycleStart:\n",
        "\n",
        "      pos = cycleStart\n",
        "      for i in range(cycleStart + 1, len(arr)):\n",
        "        if arr[i] < item:\n",
        "          pos += 1\n",
        "      #wstaw item na pos lub dalej jesli sa duplikaty\n",
        "      while item == arr[pos]:\n",
        "        pos += 1\n",
        "      arr[pos], item = item, arr[pos]\n",
        "      writes += 1\n",
        "\n",
        "  return arr"
      ],
      "metadata": {
        "id": "qY-2R6YcpOtg"
      },
      "execution_count": 10,
      "outputs": []
    },
    {
      "cell_type": "code",
      "source": [
        "test_sorting_algorithm(CycleSort)"
      ],
      "metadata": {
        "colab": {
          "base_uri": "https://localhost:8080/"
        },
        "id": "5cXZWLkesqTN",
        "outputId": "3c452fa0-efb1-4ebc-963c-243d01edcd13"
      },
      "execution_count": 11,
      "outputs": [
        {
          "output_type": "stream",
          "name": "stdout",
          "text": [
            "CycleSort correctly sorted 1000 elements in 0.204373 seconds.\n"
          ]
        }
      ]
    },
    {
      "cell_type": "markdown",
      "source": [
        "## **Comb Sort (Sortowanie grzebieniowe)**"
      ],
      "metadata": {
        "id": "TMTLVN7RByo1"
      }
    },
    {
      "cell_type": "markdown",
      "source": [
        "### Stable? - No"
      ],
      "metadata": {
        "id": "Q0pb0pLKl4Cp"
      }
    },
    {
      "cell_type": "markdown",
      "source": [
        "### Implementation"
      ],
      "metadata": {
        "id": "HtWAwYnZyEOu"
      }
    },
    {
      "cell_type": "code",
      "source": [
        "def getNextGap(gap):\n",
        "  gap = (gap*10) // 13\n",
        "  if gap < 1:\n",
        "    return 1\n",
        "  return gap\n",
        "\n",
        "def combSort(arr):\n",
        "  arr = arr[:]\n",
        "  n = len(arr)\n",
        "\n",
        "  gap = n\n",
        "  swapped = True\n",
        "\n",
        "  while gap != 1 or swapped == True:\n",
        "    gap = getNextGap(gap)\n",
        "    swapped = False\n",
        "    for i in range(0, n-gap):\n",
        "      if arr[i]>arr[i+gap]:\n",
        "        arr[i],arr[i+gap] = arr[i+gap],arr[i]\n",
        "        swapped = True\n",
        "  return arr"
      ],
      "metadata": {
        "id": "_d53ovbXzC9R"
      },
      "execution_count": 12,
      "outputs": []
    },
    {
      "cell_type": "code",
      "source": [
        "test_sorting_algorithm(combSort)"
      ],
      "metadata": {
        "colab": {
          "base_uri": "https://localhost:8080/"
        },
        "id": "ltLStXuO0wfJ",
        "outputId": "49ad04d5-1314-416f-8e80-b13b6db770bb"
      },
      "execution_count": 13,
      "outputs": [
        {
          "output_type": "stream",
          "name": "stdout",
          "text": [
            "combSort correctly sorted 1000 elements in 0.008573 seconds.\n"
          ]
        }
      ]
    },
    {
      "cell_type": "markdown",
      "source": [
        "# **Algorithms with $ O(n * log(n)) $ complexity**"
      ],
      "metadata": {
        "id": "rgV11eAS-b7v"
      }
    },
    {
      "cell_type": "markdown",
      "source": [
        "## **Merge Sort (Sortowanie przez scalanie)**"
      ],
      "metadata": {
        "id": "BdwOrO8Q_anm"
      }
    },
    {
      "cell_type": "markdown",
      "source": [
        "### Space complexity - $ O(n) $\n"
      ],
      "metadata": {
        "id": "aT-cs1303b_6"
      }
    },
    {
      "cell_type": "markdown",
      "source": [
        "### Stable? Yes"
      ],
      "metadata": {
        "id": "gu9yC2173b_6"
      }
    },
    {
      "cell_type": "markdown",
      "source": [
        "### Implementation (Python approach)\n"
      ],
      "metadata": {
        "id": "vHfMVuRZ4FN_"
      }
    },
    {
      "cell_type": "code",
      "source": [
        "def mergeSort(arr):\n",
        "  if len(arr) <= 1:\n",
        "    return arr\n",
        "\n",
        "  mid = len(arr) // 2\n",
        "  left = arr[:mid]\n",
        "  right = arr[mid:]\n",
        "\n",
        "  sortedLeft = mergeSort(left)\n",
        "  sortedRight = mergeSort(right)\n",
        "\n",
        "  return merge(sortedLeft,sortedRight)\n",
        "\n",
        "def merge(left,right):\n",
        "  result = []\n",
        "  left_idx = right_idx = 0\n",
        "  while left_idx < len(left) and right_idx < len(right):\n",
        "    if left[left_idx] < right[right_idx]:\n",
        "      result.append(left[left_idx])\n",
        "      left_idx+=1\n",
        "    else:\n",
        "      result.append(right[right_idx])\n",
        "      right_idx+=1\n",
        "\n",
        "\n",
        "  result.extend(left[left_idx:])\n",
        "  result.extend(right[right_idx:])\n",
        "\n",
        "  return result"
      ],
      "metadata": {
        "id": "wgqL1y4h4Hqe"
      },
      "execution_count": 14,
      "outputs": []
    },
    {
      "cell_type": "code",
      "source": [
        "test_sorting_algorithm(mergeSort)"
      ],
      "metadata": {
        "colab": {
          "base_uri": "https://localhost:8080/"
        },
        "id": "Q29kYgmX8TVz",
        "outputId": "45f1ff20-7743-4f6b-aacf-f88f580298b3"
      },
      "execution_count": 15,
      "outputs": [
        {
          "output_type": "stream",
          "name": "stdout",
          "text": [
            "mergeSort correctly sorted 1000 elements in 0.009373 seconds.\n"
          ]
        }
      ]
    },
    {
      "cell_type": "markdown",
      "source": [
        "### Impelmentation (Best)"
      ],
      "metadata": {
        "id": "P166ZoXB9y8R"
      }
    },
    {
      "cell_type": "code",
      "source": [
        "def mergeSortBest(arr):\n",
        "  temp_arr = [None] * len(arr) # tablica pomocnicza do przehowywania wyników scalania\n",
        "  step = 1 # zaczynamy scalanie od najmnijeszej podtablicy\n",
        "\n",
        "  while step < len(arr):\n",
        "    for left_idx in range(0,len(arr)-step, 2*step): # tak musi byc zeby kilka razy tego samego nie brac\n",
        "      mid_idx = left_idx + step\n",
        "      right_idx = mid_idx + step\n",
        "\n",
        "      if right_idx > len(arr): right_idx = len(arr)\n",
        "\n",
        "      # Merging\n",
        "      l = left_idx #do iterowania po lewej podtablicy (od left_idx do mid_idx).\n",
        "      m = mid_idx  #do iterowania po prawej podtablicy (od mid_idx do right_idx).\n",
        "      k = left_idx # do przypisywania wartości do temp_arr (od left_idx).\n",
        "\n",
        "      while l < mid_idx and m < right_idx:\n",
        "        if arr[l] <= arr[m]:\n",
        "          temp_arr[k] = arr[l]\n",
        "          l += 1\n",
        "        else:\n",
        "          temp_arr[k] = arr[m]\n",
        "          m += 1\n",
        "        k += 1\n",
        "\n",
        "      #Dopisujemy pozostale\n",
        "      while l < mid_idx:\n",
        "        temp_arr[k] = arr[l]\n",
        "        l += 1\n",
        "        k += 1\n",
        "      while m < right_idx:\n",
        "        temp_arr[k] = arr[m]\n",
        "        m += 1\n",
        "        k += 1\n",
        "\n",
        "    #jesli dalej jakis waartosci nie ma to dopisujemy\n",
        "    while k < len(arr):\n",
        "      temp_arr[k] = arr[k]\n",
        "      k += 1\n",
        "\n",
        "    #Zamieniamy tablice\n",
        "    arr, temp_arr = temp_arr, arr\n",
        "    step *= 2 # Aby scalac wieksze tablice\n",
        "\n",
        "  return arr\n"
      ],
      "metadata": {
        "id": "9_AM6k3N93wg"
      },
      "execution_count": 16,
      "outputs": []
    },
    {
      "cell_type": "code",
      "source": [
        "test_sorting_algorithm(mergeSortBest)"
      ],
      "metadata": {
        "colab": {
          "base_uri": "https://localhost:8080/"
        },
        "id": "aBaSVG-5934B",
        "outputId": "359f04e4-4dec-48e5-b179-4e5abd3b5805"
      },
      "execution_count": 17,
      "outputs": [
        {
          "output_type": "stream",
          "name": "stdout",
          "text": [
            "mergeSortBest correctly sorted 1000 elements in 0.002467 seconds.\n"
          ]
        }
      ]
    },
    {
      "cell_type": "markdown",
      "source": [
        "## **Heap Sort (Sortowanie przez kopcowanie)**\n"
      ],
      "metadata": {
        "id": "U2MjTV-u_eat"
      }
    },
    {
      "cell_type": "markdown",
      "source": [
        "### Stable? No"
      ],
      "metadata": {
        "id": "c8yXheBCvwtN"
      }
    },
    {
      "cell_type": "markdown",
      "source": [
        "### Implementation (using class Max Heap)"
      ],
      "metadata": {
        "id": "qKqDpfrrvwtO"
      }
    },
    {
      "cell_type": "code",
      "source": [
        "class MaxHeap:\n",
        "  def __init__ (self,values=None):\n",
        "    self.heap = values\n",
        "    self.build_heap()\n",
        "\n",
        "  @property\n",
        "  def heap_size(self):\n",
        "    return len(self.heap)\n",
        "\n",
        "  @staticmethod\n",
        "  def left_child_idx(curr_idx):\n",
        "    return 2*curr_idx + 1\n",
        "\n",
        "\n",
        "  @staticmethod\n",
        "  def right_child_idx(curr_idx):\n",
        "    return 2*curr_idx + 2\n",
        "\n",
        "  def swap(self,i,j):\n",
        "    self.heap[i], self.heap[j] = self.heap[j], self.heap[i]\n",
        "\n",
        "  def max_heapify(self,curr_idx,end_idx):\n",
        "    while True:\n",
        "      left_idx = self.left_child_idx(curr_idx)\n",
        "      right_idx = self.right_child_idx(curr_idx)\n",
        "      largest_idx = curr_idx\n",
        "      if left_idx < end_idx:\n",
        "            if self.heap[left_idx] > self.heap[curr_idx]:\n",
        "              largest_idx = left_idx\n",
        "            if right_idx < end_idx and self.heap[right_idx] > self.heap[largest_idx]:\n",
        "              largest_idx = right_idx\n",
        "      if largest_idx != curr_idx:\n",
        "        self.swap(curr_idx,largest_idx)\n",
        "        curr_idx = largest_idx\n",
        "      else:\n",
        "        break\n",
        "\n",
        "\n",
        "  def build_heap(self):\n",
        "    for i in range((len(self.heap)-1) // 2,-1,-1):\n",
        "      self.max_heapify(i,self.heap_size)\n",
        "\n",
        "def heapSort(arr):\n",
        "  max_heap = MaxHeap(arr)\n",
        "  for i in range(len(arr) - 1,0,-1):\n",
        "    arr[i], arr[0] = arr[0], arr[i]\n",
        "    max_heap.max_heapify(0,i)\n",
        "  return arr\n"
      ],
      "metadata": {
        "id": "ozIgyA_rvwtO"
      },
      "execution_count": 18,
      "outputs": []
    },
    {
      "cell_type": "code",
      "source": [
        "test_sorting_algorithm(heapSort)"
      ],
      "metadata": {
        "colab": {
          "base_uri": "https://localhost:8080/"
        },
        "outputId": "e4778032-3422-4c04-ccad-6fcb56b5d2dd",
        "id": "FsbOy2WBvwtP"
      },
      "execution_count": 19,
      "outputs": [
        {
          "output_type": "stream",
          "name": "stdout",
          "text": [
            "heapSort correctly sorted 1000 elements in 0.008824 seconds.\n"
          ]
        }
      ]
    },
    {
      "cell_type": "markdown",
      "source": [
        "### Implementation (without class)"
      ],
      "metadata": {
        "id": "G_6AQ9Vu8Fjr"
      }
    },
    {
      "cell_type": "code",
      "source": [
        "left_idx = lambda i: 2*i+1\n",
        "right_idx = lambda i: 2*i+2\n",
        "\n",
        "def max_heapify(arr, curr_idx, end_idx):\n",
        "  while True:\n",
        "    left = left_idx(curr_idx)\n",
        "    right = right_idx(curr_idx)\n",
        "    largest_idx = curr_idx\n",
        "\n",
        "    if left < end_idx:\n",
        "      if arr[left] > arr[curr_idx]:\n",
        "        largest_idx = left\n",
        "      if right < end_idx and arr[right] > arr[largest_idx]:\n",
        "        largest_idx = right\n",
        "\n",
        "    if largest_idx != curr_idx:\n",
        "      arr[curr_idx], arr[largest_idx] = arr[largest_idx], arr[curr_idx]\n",
        "      curr_idx = largest_idx\n",
        "    else:\n",
        "      return\n",
        "\n",
        "def build_heap(arr):\n",
        "  for i in range((len(arr)-1) // 2,-1,-1):\n",
        "    max_heapify(arr,i,len(arr))\n",
        "\n",
        "def heapSort(arr):\n",
        "  build_heap(arr)\n",
        "  for i in range(len(arr)-1,0,-1):\n",
        "    arr[i], arr[0] = arr[0], arr[i]\n",
        "    max_heapify(arr,0,i)\n",
        "  return arr"
      ],
      "metadata": {
        "id": "8PfmgoPr8E3N"
      },
      "execution_count": 20,
      "outputs": []
    },
    {
      "cell_type": "code",
      "source": [
        "test_sorting_algorithm(heapSort)"
      ],
      "metadata": {
        "colab": {
          "base_uri": "https://localhost:8080/"
        },
        "id": "eAGv0cY29tjr",
        "outputId": "6434ae6d-5997-43fd-fb6c-3364f63d1820"
      },
      "execution_count": 21,
      "outputs": [
        {
          "output_type": "stream",
          "name": "stdout",
          "text": [
            "heapSort correctly sorted 1000 elements in 0.004766 seconds.\n"
          ]
        }
      ]
    },
    {
      "cell_type": "markdown",
      "source": [
        "## **Quick Sort (Sortowanie szybkie)**"
      ],
      "metadata": {
        "id": "aQnBHQog_kUF"
      }
    },
    {
      "cell_type": "markdown",
      "source": [
        "### Time complexity"
      ],
      "metadata": {
        "id": "dlBJtIHXwvlH"
      }
    },
    {
      "cell_type": "markdown",
      "source": [
        "#### Best case\n",
        "\n",
        "$ O(log(n)) $\n"
      ],
      "metadata": {
        "id": "PuvFgapjxInd"
      }
    },
    {
      "cell_type": "markdown",
      "source": [
        "####  Worst case\n",
        "$ O(n) $ - pivot wrongly selected"
      ],
      "metadata": {
        "id": "isKFrUHHxInf"
      }
    },
    {
      "cell_type": "markdown",
      "source": [
        "# Stable? No"
      ],
      "metadata": {
        "id": "domkZT2trs47"
      }
    },
    {
      "cell_type": "markdown",
      "source": [
        "### Implementation (Last element as pivot, Lomuto)\n"
      ],
      "metadata": {
        "id": "KvwgOEuKwvlI"
      }
    },
    {
      "cell_type": "code",
      "source": [
        "def quickSort(arr):\n",
        "  _quickSort(arr,0,len(arr)-1)\n",
        "\n",
        "def _quickSort(arr, left_idx, right_idx):\n",
        "  while left_idx<right_idx:\n",
        "    pivot_position = partition(arr,left_idx,right_idx)\n",
        "    _quickSort(arr,left_idx,pivot_position-1)\n",
        "    left_idx = pivot_position + 1 # usunięta rekursja ogonowa\n",
        "    '''Bez usuwania rekursji ogonowej'''\n",
        "#     if left_idx < right_idx:\n",
        "#         pivot_position = partition(arr, left_idx, right_idx)\n",
        "#         _quick_sort(arr, left_idx, pivot_position - 1)\n",
        "#         _quick_sort(arr, pivot_position + 1, right_idx)\n",
        "\n",
        "'''Lomuto'''\n",
        "def partition(arr,left_idx,right_idx):\n",
        "  pivot = arr[right_idx]\n",
        "\n",
        "  i = left_idx - 1\n",
        "  for j in range(left_idx, right_idx):\n",
        "    if arr[j] < pivot:\n",
        "      i += 1\n",
        "      swap(arr,i,j)\n",
        "\n",
        "\n",
        "  swap(arr,i+1,right_idx)\n",
        "\n",
        "  return i+1\n",
        "\n",
        "def swap(arr,i,j):\n",
        "  arr[i], arr[j] = arr[j], arr[i]"
      ],
      "metadata": {
        "id": "8iTRlUKyykpg"
      },
      "execution_count": 22,
      "outputs": []
    },
    {
      "cell_type": "code",
      "source": [
        "test_sorting_algorithm(quickSort,in_place=True)"
      ],
      "metadata": {
        "colab": {
          "base_uri": "https://localhost:8080/"
        },
        "id": "AtspSawl7JVT",
        "outputId": "b7b1e6ff-6669-452b-aad3-1a5951984b34"
      },
      "execution_count": 23,
      "outputs": [
        {
          "output_type": "stream",
          "name": "stdout",
          "text": [
            "quickSort correctly sorted 1000 elements in 0.002467 seconds.\n"
          ]
        }
      ]
    },
    {
      "cell_type": "markdown",
      "source": [
        "### Implementation (Last element as pivot, Hoare)"
      ],
      "metadata": {
        "id": "eqR8Q25x71_y"
      }
    },
    {
      "cell_type": "code",
      "source": [
        "def quickSort(arr):\n",
        "  _quickSort(arr,0,len(arr)-1)\n",
        "\n",
        "def _quickSort(arr, left_idx, right_idx):\n",
        "  while left_idx<right_idx:\n",
        "    pivot_position = partition(arr,left_idx,right_idx)\n",
        "    _quickSort(arr,left_idx,pivot_position), '<- zamiast pivot_position-1 samo pivot_position'\n",
        "    left_idx = pivot_position + 1 # usunięta rekursja ogonowa\n",
        "\n",
        "'''Wersja Hoare'a'''\n",
        "def partition(arr,left_idx,right_idx):\n",
        "  pivot = arr[left_idx]\n",
        "\n",
        "  i = left_idx - 1\n",
        "  j = right_idx + 1\n",
        "  while True:\n",
        "    i += 1\n",
        "    while arr[i] < pivot: i += 1\n",
        "\n",
        "    j -= 1\n",
        "    while arr[j] > pivot: j -= 1\n",
        "\n",
        "    if i<j:\n",
        "      swap(arr, i, j)\n",
        "    else:\n",
        "      return j\n",
        "\n",
        "def swap(arr,i,j):\n",
        "  arr[i], arr[j] = arr[j], arr[i]"
      ],
      "metadata": {
        "id": "zCpBHLWY71ZG"
      },
      "execution_count": 24,
      "outputs": []
    },
    {
      "cell_type": "code",
      "source": [
        "test_sorting_algorithm(quickSort,in_place=True)"
      ],
      "metadata": {
        "colab": {
          "base_uri": "https://localhost:8080/"
        },
        "id": "mlR2oMc9-SL6",
        "outputId": "45f586b7-bd38-40e0-9259-176c1eef6d27"
      },
      "execution_count": 25,
      "outputs": [
        {
          "output_type": "stream",
          "name": "stdout",
          "text": [
            "quickSort correctly sorted 1000 elements in 0.002533 seconds.\n"
          ]
        }
      ]
    },
    {
      "cell_type": "markdown",
      "source": [
        "# **Algorithms with $ O(n) $ complexity**"
      ],
      "metadata": {
        "id": "a2k1NDhs_5r4"
      }
    },
    {
      "cell_type": "markdown",
      "source": [
        "## **Counting Sort (Sortowanie przez zliczanie)**"
      ],
      "metadata": {
        "id": "OJEL3lry_8Sp"
      }
    },
    {
      "cell_type": "markdown",
      "source": [
        "### Time complexity $ O(n + k) $\n"
      ],
      "metadata": {
        "id": "DNld4lPmv52S"
      }
    },
    {
      "cell_type": "markdown",
      "source": [
        "### Space complexity $ O(n + k) $\n",
        "\n"
      ],
      "metadata": {
        "id": "lxkxDSEJv52T"
      }
    },
    {
      "cell_type": "markdown",
      "source": [
        "### Stable? Yes"
      ],
      "metadata": {
        "id": "zhC4r6NPv52T"
      }
    },
    {
      "cell_type": "markdown",
      "source": [
        "### Implementation (Non-negative values ​​and just the max function)"
      ],
      "metadata": {
        "id": "TecRoPD3v52T"
      }
    },
    {
      "cell_type": "code",
      "source": [
        "def countingSort(arr):\n",
        "  arr = arr[:]\n",
        "  max_value = max(arr)\n",
        "  # Tablica do zliczania\n",
        "  counts = [0] * (max_value + 1)\n",
        "  #Zliczamy wystąpienia\n",
        "  for val in arr:\n",
        "    counts[val]+=1\n",
        "  # Mofyfikacja tablicy aby wskazywala ile wrtosci jest nie wiekszych niz dana\n",
        "  for i in range(1,len(counts)):\n",
        "    counts[i] += counts[i-1]\n",
        "  # Tablica pomocnicza\n",
        "  temp = [None] * len(arr)\n",
        "  # Przepisujemy wartosci do temporary\n",
        "  for i in range(len(arr)-1,-1,-1):\n",
        "    counts[arr[i]] -= 1 # zaznazamy w counts ze spotkana juz raz\n",
        "    temp[counts[arr[i]]] = arr[i] # przypisujemy odpowiedia wartosc\n",
        "    # dzieki uzyciu tablicy prefiksowej bedziemy za kazdym razem wiedizc gdzie wpisac wartosc\n",
        "  #Przepisujemy posortowane wartosci\n",
        "  for i in range(len(temp)):\n",
        "    arr[i] = temp[i]\n",
        "  return arr"
      ],
      "metadata": {
        "id": "q7CdawMcv9Jw"
      },
      "execution_count": 26,
      "outputs": []
    },
    {
      "cell_type": "code",
      "source": [
        "test_sorting_algorithm(countingSort)"
      ],
      "metadata": {
        "colab": {
          "base_uri": "https://localhost:8080/"
        },
        "id": "I0y1ofw63q6B",
        "outputId": "3ca5ba7d-fd85-4082-a52b-e9ea801b2487"
      },
      "execution_count": 27,
      "outputs": [
        {
          "output_type": "stream",
          "name": "stdout",
          "text": [
            "countingSort correctly sorted 1000 elements in 0.001237 seconds.\n"
          ]
        }
      ]
    },
    {
      "cell_type": "markdown",
      "source": [
        "### Implementation (Non-negative values ​​and just the max function, using pop and append)"
      ],
      "metadata": {
        "id": "7fPgPyMV4WJN"
      }
    },
    {
      "cell_type": "code",
      "source": [
        "def countingSort(arr):\n",
        "  arr = arr[:]\n",
        "  max_value = max(arr)\n",
        "  count = [0] * (max_value + 1)\n",
        "\n",
        "  while len(arr) > 0:\n",
        "    num = arr.pop(0)\n",
        "    count[num] += 1\n",
        "\n",
        "  for i in range(len(count)):\n",
        "    while count[i] > 0:\n",
        "      arr.append(i)\n",
        "      count[i] -= 1\n",
        "  return arr\n"
      ],
      "metadata": {
        "id": "KttANKQ24VpJ"
      },
      "execution_count": 28,
      "outputs": []
    },
    {
      "cell_type": "code",
      "source": [
        "test_sorting_algorithm(countingSort)"
      ],
      "metadata": {
        "colab": {
          "base_uri": "https://localhost:8080/"
        },
        "id": "GHQ22bMtBQ9p",
        "outputId": "b84fddd3-3669-4a82-cebf-f64173914c6f"
      },
      "execution_count": 29,
      "outputs": [
        {
          "output_type": "stream",
          "name": "stdout",
          "text": [
            "countingSort correctly sorted 1000 elements in 0.000835 seconds.\n"
          ]
        }
      ]
    },
    {
      "cell_type": "markdown",
      "source": [
        "### Implementation (negative values, linear seraching for min and max )"
      ],
      "metadata": {
        "id": "-cKSb2M_BzZw"
      }
    },
    {
      "cell_type": "code",
      "source": [
        "def countingSort(arr):\n",
        "  arr = arr[:]\n",
        "  min_,max_ = minmax(arr)\n",
        "  _countingSort(arr,min_,max_)\n",
        "  return arr\n",
        "\n",
        "def minmax(arr):\n",
        "  global_min = global_max = arr[-1]\n",
        "\n",
        "  for i in range(0,len(arr)-1,2):\n",
        "    if arr[i] > arr[i+1]:\n",
        "      if arr[i] > global_max: global_max = arr[i]\n",
        "      if arr[i+1] < global_min: global_min = arr[i+1]\n",
        "    else:\n",
        "      if arr[i+1] > global_max: global_max = arr[i+1]\n",
        "      if arr[i] < global_min: global_min = arr[i]\n",
        "  return global_min, global_max\n",
        "\n",
        "def _countingSort(arr,min_,max_):\n",
        "  counts = [0] * (max_ - min_ + 1)\n",
        "  temp = [None] * len(arr)\n",
        "  for val in arr:\n",
        "    counts[val - min_] += 1\n",
        "  for i in range(1, len(counts)):\n",
        "    counts[i] += counts[i-1]\n",
        "  for i in range(len(arr)-1, -1, -1):\n",
        "    counts[arr[i] - min_] -= 1\n",
        "    temp[counts[arr[i] - min_]] = arr[i]\n",
        "  for i in range(len(arr)):\n",
        "    arr[i] = temp [i]"
      ],
      "metadata": {
        "id": "I87WJEsKByvj"
      },
      "execution_count": 30,
      "outputs": []
    },
    {
      "cell_type": "code",
      "source": [
        "test_sorting_algorithm(countingSort)"
      ],
      "metadata": {
        "colab": {
          "base_uri": "https://localhost:8080/"
        },
        "id": "oaE-HGDEE79T",
        "outputId": "fa69d49a-cdf7-4fbe-aaad-33be61f380b7"
      },
      "execution_count": 31,
      "outputs": [
        {
          "output_type": "stream",
          "name": "stdout",
          "text": [
            "countingSort correctly sorted 1000 elements in 0.001381 seconds.\n"
          ]
        }
      ]
    },
    {
      "cell_type": "markdown",
      "source": [
        "## **Radix Sort (Sortowanie pozycyjne)**"
      ],
      "metadata": {
        "id": "Uytbo5GuACDO"
      }
    },
    {
      "cell_type": "markdown",
      "source": [
        "### Time complexity O(d * ( n + b)) $\n",
        "\n",
        "$ d $ - $ log_b(k)$, where\n",
        "\n",
        "$ k $ - max value in array,\n",
        "\n",
        "$ n $ - size od array,\n",
        "\n",
        "$ b $ - the basis of the number system, in which we are sorting\n"
      ],
      "metadata": {
        "id": "yGblt-gqGyRW"
      }
    },
    {
      "cell_type": "markdown",
      "source": [
        "### Space complexity $ O(n + b) $\n"
      ],
      "metadata": {
        "id": "JVjHNOk4GyRW"
      }
    },
    {
      "cell_type": "markdown",
      "source": [
        "### Stable? Yes"
      ],
      "metadata": {
        "id": "Z-6POCCkHLkr"
      }
    },
    {
      "cell_type": "markdown",
      "source": [
        "### Implemention 1 (base 10, Counting sort)"
      ],
      "metadata": {
        "id": "MpRJ-7H_LO8q"
      }
    },
    {
      "cell_type": "code",
      "source": [
        "def helperCountingSort(arr, digit_place):\n",
        "  counts = [0] * 10\n",
        "  temp = [None] * len(arr)\n",
        "  for value in arr:\n",
        "    digit = (value // digit_place) % 10\n",
        "    counts[digit] += 1\n",
        "  for i in range(1,10):\n",
        "    counts[i] += counts[i-1]\n",
        "  for i in range(len(arr) - 1, -1, -1):\n",
        "    digit = (arr[i] // digit_place) % 10\n",
        "    counts[digit] -= 1\n",
        "    temp[counts[digit]] = arr[i]\n",
        "  for i in range(len(arr)):\n",
        "    arr[i]=temp[i]\n",
        "\n",
        "def radixSort(arr):\n",
        "  arr = arr[:]\n",
        "  max_value = _max(arr)\n",
        "  digit_place = 1\n",
        "  while max_value >= digit_place:\n",
        "    helperCountingSort(arr, digit_place)\n",
        "    digit_place *= 10\n",
        "  return arr\n",
        "\n",
        "\n",
        "def _max(arr):\n",
        "  max_value = arr[0]\n",
        "  for i in range(1,len(arr)):\n",
        "    if arr[i] > max_value: max_value = arr[i]\n",
        "  return max_value"
      ],
      "metadata": {
        "id": "BV-TExnDLztJ"
      },
      "execution_count": 32,
      "outputs": []
    },
    {
      "cell_type": "code",
      "source": [
        "test_sorting_algorithm(radixSort)"
      ],
      "metadata": {
        "colab": {
          "base_uri": "https://localhost:8080/"
        },
        "id": "9bgifO3dLzzP",
        "outputId": "802525a6-5ec4-4e57-96e9-1a71722095df"
      },
      "execution_count": 33,
      "outputs": [
        {
          "output_type": "stream",
          "name": "stdout",
          "text": [
            "radixSort correctly sorted 1000 elements in 0.002322 seconds.\n"
          ]
        }
      ]
    },
    {
      "cell_type": "markdown",
      "source": [
        "### Implementacja 2 (arbitrary base, Counting sort)"
      ],
      "metadata": {
        "id": "t-b3dPhPLz7h"
      }
    },
    {
      "cell_type": "code",
      "source": [
        "def helperCountingSort(arr, base, digit_place):\n",
        "  counts = [0] * base\n",
        "  temp = [None] * len(arr)\n",
        "  for value in arr:\n",
        "    digit = (value // digit_place) % base\n",
        "    counts[digit] += 1\n",
        "  for i in range(1,base):\n",
        "    counts[i] += counts[i-1]\n",
        "  for i in range(len(arr) - 1, -1, -1):\n",
        "    digit = (arr[i] // digit_place) % base\n",
        "    counts[digit] -= 1\n",
        "    temp[counts[digit]] = arr[i]\n",
        "  for i in range(len(arr)):\n",
        "    arr[i]=temp[i]\n",
        "\n",
        "def radixSort(arr, base=2):\n",
        "  arr = arr[:]\n",
        "  max_value = _max(arr)\n",
        "  digit_place = 1\n",
        "  while max_value >= digit_place:\n",
        "    helperCountingSort(arr, base, digit_place)\n",
        "    digit_place *= base\n",
        "  return arr\n",
        "\n",
        "\n",
        "def _max(arr):\n",
        "  max_value = arr[0]\n",
        "  for i in range(1,len(arr)):\n",
        "    if arr[i] > max_value: max_value = arr[i]\n",
        "  return max_value"
      ],
      "metadata": {
        "id": "CUFTYVhqL99A"
      },
      "execution_count": 34,
      "outputs": []
    },
    {
      "cell_type": "code",
      "source": [
        "test_sorting_algorithm(radixSort)"
      ],
      "metadata": {
        "colab": {
          "base_uri": "https://localhost:8080/"
        },
        "id": "qyNAgf9ZL-BX",
        "outputId": "ddb256ac-6ccf-4398-d190-48df4a34fce7"
      },
      "execution_count": 35,
      "outputs": [
        {
          "output_type": "stream",
          "name": "stdout",
          "text": [
            "radixSort correctly sorted 1000 elements in 0.004801 seconds.\n"
          ]
        }
      ]
    },
    {
      "cell_type": "markdown",
      "source": [
        "## **Bucket Sort (Sortowanie kubełkowe)**"
      ],
      "metadata": {
        "id": "74ud5C2TAnWG"
      }
    },
    {
      "cell_type": "markdown",
      "source": [
        "### Time complexity\n"
      ],
      "metadata": {
        "id": "F2DUdN994Wly"
      }
    },
    {
      "cell_type": "markdown",
      "source": [
        "#### Best case\n",
        "$ O(n + k) $\n",
        "\n",
        "$ O(n) $ - time of creating buckets\n",
        "\n",
        " $ O(k) $- time of sorting buckets"
      ],
      "metadata": {
        "id": "ESInquxC-cdz"
      }
    },
    {
      "cell_type": "markdown",
      "source": [
        "#### Worst case\n",
        "\n",
        "$ O(n^2) $ - a lot of elements in one bucket"
      ],
      "metadata": {
        "id": "Z4HuF3H5-cmq"
      }
    },
    {
      "cell_type": "markdown",
      "source": [
        "### Space complexity $ O(n + k) $\n"
      ],
      "metadata": {
        "id": "0TDpypMa4Wlz"
      }
    },
    {
      "cell_type": "markdown",
      "source": [
        "### Stable? Yes"
      ],
      "metadata": {
        "id": "Ayiy_CKS4Wlz"
      }
    },
    {
      "cell_type": "markdown",
      "source": [
        "### Implementaion(predetermined number of buckets, Insertion Sort)"
      ],
      "metadata": {
        "id": "aeftaW3r4VPo"
      }
    },
    {
      "cell_type": "code",
      "source": [
        "def insertionSort(arr):\n",
        "  for i in range(1,len(arr)):\n",
        "    key = arr[i]\n",
        "    j = i - 1\n",
        "    while j >= 0 and arr[j] > key:\n",
        "      arr[j+1] = arr[j]\n",
        "      j -= 1\n",
        "    arr[j+1] = key\n",
        "  return arr\n",
        "\n",
        "def minmax(arr):\n",
        "  global_min = global_max = arr[-1]\n",
        "\n",
        "  for i in range(0,len(arr)-1,2):\n",
        "    if arr[i] > arr[i+1]:\n",
        "      if arr[i] > global_max: global_max = arr[i]\n",
        "      if arr[i+1] < global_min: global_min = arr[i+1]\n",
        "    else:\n",
        "      if arr[i+1] > global_max: global_max = arr[i+1]\n",
        "      if arr[i] < global_min: global_min = arr[i]\n",
        "  return global_min, global_max\n",
        "\n",
        "def get_bucket_index(num, min_val, bucket_range, k):\n",
        "  return min(k-1,int((num - min_val) / bucket_range))\n",
        "\n",
        "def bucketSort(arr,k=None):\n",
        "  if not k:\n",
        "    k = len(arr)\n",
        "  arr = arr[:]\n",
        "  _min,_max = minmax(arr)\n",
        "  bucket_range = (_max - _min) / k\n",
        "  buckets = [[] for _ in range(k)]\n",
        "  for num in arr:\n",
        "    idx = get_bucket_index(num, _min, bucket_range, k)\n",
        "    buckets[idx].append(num)\n",
        "\n",
        "  sorted_arr = []\n",
        "  for bucket in buckets:\n",
        "    #print(bucket)\n",
        "    sorted_arr.extend(insertionSort(bucket))\n",
        "\n",
        "  for i in range(len(arr)):\n",
        "    arr[i]=sorted_arr[i]\n",
        "  return arr"
      ],
      "metadata": {
        "id": "Mz_uhQBSCJDF"
      },
      "execution_count": 36,
      "outputs": []
    },
    {
      "cell_type": "code",
      "source": [
        "test_sorting_algorithm(bucketSort,max_val=1)"
      ],
      "metadata": {
        "colab": {
          "base_uri": "https://localhost:8080/"
        },
        "id": "sy06ZgXjH7Og",
        "outputId": "4468eca4-7c87-4999-b71f-324931e5d076"
      },
      "execution_count": 37,
      "outputs": [
        {
          "output_type": "stream",
          "name": "stdout",
          "text": [
            "bucketSort correctly sorted 1000 elements in 0.002239 seconds.\n"
          ]
        }
      ]
    }
  ]
}