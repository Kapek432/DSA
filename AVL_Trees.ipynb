{
  "nbformat": 4,
  "nbformat_minor": 0,
  "metadata": {
    "colab": {
      "provenance": [],
      "authorship_tag": "ABX9TyMKL/htbGEUyqyMijNteWXc",
      "include_colab_link": true
    },
    "kernelspec": {
      "name": "python3",
      "display_name": "Python 3"
    },
    "language_info": {
      "name": "python"
    }
  },
  "cells": [
    {
      "cell_type": "markdown",
      "metadata": {
        "id": "view-in-github",
        "colab_type": "text"
      },
      "source": [
        "<a href=\"https://colab.research.google.com/github/Kapek432/DSA/blob/main/AVL_Trees.ipynb\" target=\"_parent\"><img src=\"https://colab.research.google.com/assets/colab-badge.svg\" alt=\"Open In Colab\"/></a>"
      ]
    },
    {
      "cell_type": "markdown",
      "source": [
        "# **AVL Trees**"
      ],
      "metadata": {
        "id": "SL1GZ8saTyde"
      }
    },
    {
      "cell_type": "markdown",
      "source": [
        "Sources of information:\n",
        "\n",
        "-[w3schools](https://www.w3schools.com/dsa/dsa_data_avltrees.php)\n"
      ],
      "metadata": {
        "id": "ZQxt4YNXVQVE"
      }
    },
    {
      "cell_type": "markdown",
      "source": [
        "AVL trees are a type of self-balancing binary search tree (BST), where the difference in heights of the left and right subtrees (called the balance factor) of any node is at most 1. This property ensures that the tree remains balanced and guarantees logarithmic time complexity for basic operations.\n",
        "\n",
        "Here are the basic operations for AVL trees:\n",
        "\n",
        "1. **Insertion**:\n",
        "   - Insert the new node as you would in a regular binary search tree.\n",
        "   - After insertion, check if the balance factor of any node is violated (i.e., it is greater than 1 or less than -1).\n",
        "   - If a violation is found, perform rotations to restore balance. The rotations depend on the type of violation (left-left, right-right, left-right, or right-left).\n",
        "\n",
        "2. **Deletion**:\n",
        "   - Deletion follows the same process as in a regular BST: find the node, remove it, and replace it if necessary.\n",
        "   - After deletion, check for balance violations and perform rotations as needed to restore balance.\n",
        "\n",
        "3. **Rotations**:\n",
        "   - **Left Rotation**: Performed when a right subtree is too tall (balance factor of -2).\n",
        "   - **Right Rotation**: Performed when a left subtree is too tall (balance factor of 2).\n",
        "   - **Left-Right Rotation**: A combination of a left rotation followed by a right rotation, performed when a left subtree is too tall and the left child has a right-heavy imbalance.\n",
        "   - **Right-Left Rotation**: A combination of a right rotation followed by a left rotation, performed when a right subtree is too tall and the right child has a left-heavy imbalance.\n",
        "\n",
        "4. **Searching**:\n",
        "   - Searching in an AVL tree is the same as in a regular BST: start from the root and follow the left or right child pointers based on comparisons. The balanced nature of the tree ensures the search operation has logarithmic time complexity.\n",
        "\n",
        "By maintaining balance after each insertion or deletion, AVL trees ensure that the tree remains balanced and efficient for operations like search, insertion, and deletion, with time complexities of O(log n)."
      ],
      "metadata": {
        "id": "fgr7R9D5UP7A"
      }
    },
    {
      "cell_type": "markdown",
      "source": [
        "## **The balance factor**\n",
        "\n",
        "The Balance Factor ( $BF$ ) for a node is the difference in height between its right and left subtrees\n",
        "\n",
        "$ BF(X) = height(leftSubtree(X)) - height(rightSubtree(X)) $\n",
        "\n",
        "Balance factor values:\n",
        "\n",
        "- 0: The node is in balance.\n",
        "\n",
        "- less than 0: The node is \"right heavy\".\n",
        "\n",
        "- more than 0: The node is \"left heavy\".\n",
        "\n",
        "If the balance factor is less than -1, or more than 1, for one or more nodes in the tree, the tree is considered not in balance, and a rotation operation is needed to restore balance."
      ],
      "metadata": {
        "id": "t7jR91pwUWQM"
      }
    },
    {
      "cell_type": "markdown",
      "source": [
        "## **The Four \"out-of-balance\" Cases**\n",
        "\n",
        "Here is the table you requested:\n",
        "\n",
        "| Case               | Description                                                                 | Rotation to Restore Balance                                                                                                      |\n",
        "|--------------------|-----------------------------------------------------------------------------|------------------------------------------------------------------------------------------------------------------------------------|\n",
        "| Left-Left (LL)     | The unbalanced node and its left child node are both left-heavy.             | A single right rotation.                                                                                                          |\n",
        "| Right-Right (RR)   | The unbalanced node and its right child node are both right-heavy.           | A single left rotation.                                                                                                           |\n",
        "| Left-Right (LR)    | The unbalanced node is left heavy, and its left child node is right heavy.   | First do a left rotation on the left child node, then do a right rotation on the unbalanced node.                                  |\n",
        "| Right-Left (RL)    | The unbalanced node is right heavy, and its right child node is left heavy.  | First do a right rotation on the right child node, then do a left rotation on the unbalanced node.                                 |"
      ],
      "metadata": {
        "id": "YPJXRZO1VLsa"
      }
    },
    {
      "cell_type": "markdown",
      "source": [
        "### **Retracing in AVL Trees**\n",
        "After inserting or deleting a node in an AVL tree, the tree may become unbalanced. To find out if the tree is unbalanced, we need to update the heights and recalculate the balance factors of all ancestor nodes.\n",
        "\n",
        "This process, known as **retracing**, is handled through recursion. As the recursive calls propagate back to the root after an insertion or deletion, each ancestor node's height is updated and the balance factor is recalculated. If any ancestor node is found to have a balance factor outside the range of -1 to 1, a rotation is performed at that node to restore the tree's balance."
      ],
      "metadata": {
        "id": "lJJXv2gVofgQ"
      }
    },
    {
      "cell_type": "markdown",
      "source": [
        "### **AVL Delete Node Implementation**\n",
        "When deleting a node that is not a leaf node, the AVL Tree requires the `min_value_node()` function to find a node's next node in the in-order traversal. This is the same as when deleting a node in a Binary Search Tree."
      ],
      "metadata": {
        "id": "OdotNxrVoxKF"
      }
    },
    {
      "cell_type": "markdown",
      "source": [
        "## **Implementation**"
      ],
      "metadata": {
        "id": "zALokBpqY_aJ"
      }
    },
    {
      "cell_type": "code",
      "source": [
        "class TreeNode:\n",
        "    def __init__(self, data):\n",
        "        self.data = data\n",
        "        self.left = None\n",
        "        self.right = None\n",
        "        self.height = 1\n",
        "\n",
        "def get_height(node):\n",
        "    if node is None:\n",
        "        return 0\n",
        "    return node.height\n",
        "\n",
        "def get_balance(node):\n",
        "    if node is None:\n",
        "        return 0\n",
        "    return get_height(node.left) - get_height(node.right)\n",
        "\n",
        "def right_rotate(y):\n",
        "    print(f\"Right rotate on node {y.data}\")\n",
        "    # assign left child of y to x\n",
        "    x = y.left\n",
        "\n",
        "    # make rotation\n",
        "    T2 = x.right\n",
        "    x.right = y\n",
        "    y.left = T2\n",
        "\n",
        "    # update heights\n",
        "    x.height = max(get_height(x.left), get_height(x.right)) + 1\n",
        "    y.height = max(get_height(y.left), get_height(y.right)) + 1\n",
        "\n",
        "    # return new root\n",
        "    return x\n",
        "\n",
        "def left_rotate(y):\n",
        "    # analogously to right rotate\n",
        "    print(f\"Left rotate on node {y.data}\")\n",
        "\n",
        "    x = y.right\n",
        "\n",
        "    T2 = x.left\n",
        "    x.left = y\n",
        "    y.right = T2\n",
        "\n",
        "    x.height = max(get_height(x.left), get_height(x.right)) + 1\n",
        "    y.height = max(get_height(y.left), get_height(y.right)) + 1\n",
        "\n",
        "    return x\n",
        "\n",
        "def insert(node, data):\n",
        "    if node is None:\n",
        "        return TreeNode(data)\n",
        "\n",
        "    if data < node.data:\n",
        "        node.left = insert(node.left, data)\n",
        "    else:\n",
        "        node.right = insert(node.right, data)\n",
        "\n",
        "    # Update balance factor and balace the tree\n",
        "    node.height = 1 + max(get_height(node.left), get_height(node.right))\n",
        "    balance = get_balance(node)\n",
        "\n",
        "    # Balancing the tree\n",
        "    if abs(balance) > 1:\n",
        "        print(\"Tree is not balanced. Rebalancing.\")\n",
        "    # Left Left Case - Right Rotation\n",
        "    if balance > 1 and get_balance(node.left) >= 0:\n",
        "        return right_rotate(node)\n",
        "\n",
        "    # Right Right Case - Left Rotation\n",
        "    if balance < -1 and get_balance(node.right) <= 0:\n",
        "        return left_rotate(node)\n",
        "\n",
        "    # Left Right Case - Left Rotation -> Right Rotation\n",
        "    if balance > 1 and get_balance(node.left) < 0:\n",
        "        node.left = left_rotate(node.left)\n",
        "        return right_rotate(node)\n",
        "\n",
        "    # Right Left Case - Right Rotation -> Left Rotation\n",
        "    if balance < -1 and get_balance(node.right) > 0:\n",
        "        node.right = right_rotate(node.right)\n",
        "        return left_rotate(node)\n",
        "\n",
        "    return node\n",
        "\n",
        "def min_value_node(node):\n",
        "    current = node\n",
        "    while current.left is not None:\n",
        "        current = current.left\n",
        "    return current\n",
        "\n",
        "def delete(node, data):\n",
        "    if not node:\n",
        "          return node\n",
        "\n",
        "    if data < node.data:\n",
        "        node.left = delete(node.left, data)\n",
        "    elif data > node.data:\n",
        "        node.right = delete(node.right, data)\n",
        "    else:\n",
        "        if node.left is None:\n",
        "            temp = node.right\n",
        "            node = None\n",
        "            return temp\n",
        "        elif node.right is None:\n",
        "            temp = node.left\n",
        "            node = None\n",
        "            return temp\n",
        "\n",
        "        temp = min_value_node(node.right)\n",
        "        node.data = temp.data\n",
        "        node.right = delete(node.right, temp.data)\n",
        "\n",
        "\n",
        "    node.height = 1 + max(get_height(node.left), get_height(node.right))\n",
        "    balance = get_balance(node)\n",
        "\n",
        "    if abs(balance) > 1:\n",
        "        print(\"Tree is not balanced. Rebalancing.\")\n",
        "    if balance > 1 and get_balance(node.left) >= 0:\n",
        "        return right_rotate(node)\n",
        "\n",
        "    if balance < -1 and get_balance(node.right) <= 0:\n",
        "        return left_rotate(node)\n",
        "\n",
        "    if balance > 1 and get_balance(node.left) < 0:\n",
        "        node.left = left_rotate(node.left)\n",
        "        return right_rotate(node)\n",
        "\n",
        "    if balance < -1 and get_balance(node.right) > 0:\n",
        "        node.right = right_rotate(node.right)\n",
        "        return left_rotate(node)\n",
        "\n",
        "    return node\n",
        "def inorder_traversal(node):\n",
        "    if node is not None:\n",
        "        inorder_traversal(node.left)\n",
        "        print(node.data, end=\", \")\n",
        "        inorder_traversal(node.right)"
      ],
      "metadata": {
        "id": "8acPSal4yESl"
      },
      "execution_count": 1,
      "outputs": []
    },
    {
      "cell_type": "code",
      "source": [
        "def build_avl_tree(root: TreeNode | None = None,\n",
        "         values: list[int] = [10, 20, 30, 40, 50, 25]) -> TreeNode:\n",
        "    \"\"\"\n",
        "    Function to test the AVL tree implementation.\n",
        "    \"\"\"\n",
        "    for value in values:\n",
        "        root = insert(root, value)\n",
        "    print()\n",
        "    return root\n",
        "\n",
        "def print_tree(root: TreeNode, level=0, prefix=\"Root: \"):\n",
        "    \"\"\"\n",
        "    Function to print the AVL tree.\n",
        "    \"\"\"\n",
        "    if root is not None:\n",
        "        print(\" \" * (4 * level) + prefix + str(root.data))\n",
        "        if root.left or root.right:\n",
        "            print_tree(root.left, level + 1, \"L--- \")\n",
        "            print_tree(root.right, level + 1, \"R--- \")"
      ],
      "metadata": {
        "id": "vREI89zFjheK"
      },
      "execution_count": 2,
      "outputs": []
    },
    {
      "cell_type": "code",
      "source": [
        "def bst_insert(root: TreeNode | None, data: int) -> TreeNode:\n",
        "    \"\"\"\n",
        "    Function to insert a node in a classic BST.\n",
        "    \"\"\"\n",
        "    if root is None:\n",
        "        return TreeNode(data)\n",
        "\n",
        "    if data < root.data:\n",
        "        root.left = bst_insert(root.left, data)\n",
        "    else:\n",
        "        root.right = bst_insert(root.right, data)\n",
        "\n",
        "    return root  # No balancing, just a standard BST\n",
        "\n",
        "def build_bst(values: list[int] = [10, 20, 30, 40, 50, 25]) -> TreeNode | None:\n",
        "    \"\"\"\n",
        "    Function to test the classic BST implementation.\n",
        "    \"\"\"\n",
        "    root = None\n",
        "    for value in values:\n",
        "        root = bst_insert(root, value)\n",
        "    return root"
      ],
      "metadata": {
        "id": "5WNyqbG6mIoK"
      },
      "execution_count": 3,
      "outputs": []
    },
    {
      "cell_type": "code",
      "source": [
        "def build_and_compare_bst_and_avl(values: list[int] = [10, 20, 30, 40, 50, 25]) -> tuple[TreeNode, TreeNode]:\n",
        "    \"\"\"\n",
        "    Function to compare the BST and AVL tree implementations.\n",
        "    Args:\n",
        "        values: list of values to insert in the trees.\n",
        "    Returns:\n",
        "        root_bst: root of the BST tree.\n",
        "        root_avl: root of the AVL tree.\n",
        "    \"\"\"\n",
        "    root_bst = None\n",
        "    root_avl = None\n",
        "\n",
        "    root_bst = build_bst(values)\n",
        "    print(\"Bst tree structure\")\n",
        "    print_tree(root_bst)\n",
        "    print()\n",
        "\n",
        "    root_avl = build_avl_tree(values=values)\n",
        "    print(\"Avl tree structure\")\n",
        "    print_tree(root_avl)\n",
        "    print()\n",
        "\n",
        "    return root_bst, root_avl"
      ],
      "metadata": {
        "id": "6ejDpsKdnXvC"
      },
      "execution_count": 4,
      "outputs": []
    },
    {
      "cell_type": "code",
      "source": [
        "bst, avl = build_and_compare_bst_and_avl()"
      ],
      "metadata": {
        "colab": {
          "base_uri": "https://localhost:8080/"
        },
        "id": "WRpIMnh5kRc_",
        "outputId": "3fb50c58-6ff2-4c61-82d1-f66b295c0d02"
      },
      "execution_count": 5,
      "outputs": [
        {
          "output_type": "stream",
          "name": "stdout",
          "text": [
            "Bst tree structure\n",
            "Root: 10\n",
            "    R--- 20\n",
            "        R--- 30\n",
            "            L--- 25\n",
            "            R--- 40\n",
            "                R--- 50\n",
            "\n",
            "Tree is not balanced. Rebalancing.\n",
            "Left rotate on node 10\n",
            "Tree is not balanced. Rebalancing.\n",
            "Left rotate on node 30\n",
            "Tree is not balanced. Rebalancing.\n",
            "Left rotate on node 20\n",
            "Tree is not balanced. Rebalancing.\n",
            "Left rotate on node 20\n",
            "Right rotate on node 40\n",
            "\n",
            "Avl tree structure\n",
            "Root: 30\n",
            "    L--- 20\n",
            "        L--- 10\n",
            "        R--- 25\n",
            "    R--- 40\n",
            "        R--- 50\n",
            "\n"
          ]
        }
      ]
    }
  ]
}