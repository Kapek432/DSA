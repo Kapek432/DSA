{
  "nbformat": 4,
  "nbformat_minor": 0,
  "metadata": {
    "colab": {
      "provenance": [],
      "authorship_tag": "ABX9TyNWI0yMWpEGjMU4ZBkbtBfC",
      "include_colab_link": true
    },
    "kernelspec": {
      "name": "python3",
      "display_name": "Python 3"
    },
    "language_info": {
      "name": "python"
    }
  },
  "cells": [
    {
      "cell_type": "markdown",
      "metadata": {
        "id": "view-in-github",
        "colab_type": "text"
      },
      "source": [
        "<a href=\"https://colab.research.google.com/github/Kapek432/DSA/blob/main/Sorting_in_linear_time_median_and_order_statistics.ipynb\" target=\"_parent\"><img src=\"https://colab.research.google.com/assets/colab-badge.svg\" alt=\"Open In Colab\"/></a>"
      ]
    },
    {
      "cell_type": "markdown",
      "source": [
        "# **Sorting in linear time, medians and order statistics**"
      ],
      "metadata": {
        "id": "IsZeoKHbPwvf"
      }
    },
    {
      "cell_type": "markdown",
      "source": [
        "## **Effective finding min and max:**"
      ],
      "metadata": {
        "id": "IJZeaWLRP7Iu"
      }
    },
    {
      "cell_type": "code",
      "source": [
        "def find_min_max(arr):\n",
        "    n = len(arr)\n",
        "    comparisions = 0\n",
        "    if n == 1:\n",
        "        return arr[0], arr[0]\n",
        "    if n % 2 == 1:\n",
        "        min_val = max_val = arr[0]\n",
        "        start_idx = 1\n",
        "    else:\n",
        "          comparisions += 1\n",
        "          if arr[0] > arr[1]:\n",
        "              max_val = arr[0]\n",
        "              min_val = arr[1]\n",
        "          else:\n",
        "              min_val = arr[0]\n",
        "              max_val = arr[1]\n",
        "          start_idx = 2\n",
        "\n",
        "    for i in range(start_idx, n, 2):\n",
        "        comparisions += 3\n",
        "        if arr[i] > arr[i+1]:\n",
        "            if arr[i] > max_val:\n",
        "                max_val = arr[i]\n",
        "            if arr[i+1] < min_val:\n",
        "                min_val = arr[i+1]\n",
        "        else:\n",
        "            if arr[i+1] > max_val:\n",
        "                max_val = arr[i+1]\n",
        "            if arr[i] < min_val:\n",
        "                min_val = arr[i]\n",
        "    return min_val, max_val, comparisions"
      ],
      "metadata": {
        "id": "ZA6jfRKWPygw"
      },
      "execution_count": 1,
      "outputs": []
    },
    {
      "cell_type": "code",
      "source": [
        "arr = [10, 4, 5, 8, 6, 11, 26, 7, 3, 1, 23]\n",
        "min_val, max_val, comparisons = find_min_max(arr)\n",
        "print(\"Min:\", min_val, \"Max:\", max_val, \"Number of comparisons:\", comparisons, \"Length of array\", len(arr))"
      ],
      "metadata": {
        "colab": {
          "base_uri": "https://localhost:8080/"
        },
        "id": "5OS60DdbQfCA",
        "outputId": "e51b8bdb-a8e3-4262-e618-269a98f0610d"
      },
      "execution_count": 2,
      "outputs": [
        {
          "output_type": "stream",
          "name": "stdout",
          "text": [
            "Min: 1 Max: 26 Number of comparisons: 15 Length of array 11\n"
          ]
        }
      ]
    },
    {
      "cell_type": "markdown",
      "source": [
        "## **Finding k th smallest element**"
      ],
      "metadata": {
        "id": "OZl4eLW8VqgZ"
      }
    },
    {
      "cell_type": "markdown",
      "source": [
        "## Quickselect using Hoare partitioning"
      ],
      "metadata": {
        "id": "C5hpCoanUMvs"
      }
    },
    {
      "cell_type": "code",
      "source": [
        "def quickselect(arr, left, right, k):\n",
        "    if left==right:\n",
        "        return arr[left]\n",
        "    pivot_idx = hoare_partition(arr, left, right)\n",
        "\n",
        "    if k == pivot_idx:\n",
        "        return arr[k]\n",
        "    elif k < pivot_idx:\n",
        "        return quickselect(arr, left, pivot_idx, k)\n",
        "    else:\n",
        "        return quickselect(arr, pivot_idx+1, right, k)\n",
        "\n",
        "def hoare_partition(arr, left, right):\n",
        "    pivot = arr[left]\n",
        "    i = left - 1\n",
        "    j = right + 1\n",
        "    while True:\n",
        "        j -= 1\n",
        "        while arr[j] > pivot:\n",
        "            j -= 1\n",
        "\n",
        "        i += 1\n",
        "        while arr[i] < pivot:\n",
        "            i += 1\n",
        "\n",
        "        if i >= j:\n",
        "            return j\n",
        "        else:\n",
        "            arr[i], arr[j] = arr[j], arr[i]\n",
        "\n",
        "def find_kth_smallest(arr, k):\n",
        "    return quickselect(arr, 0, len(arr)-1, k-1) # 0 based indices"
      ],
      "metadata": {
        "id": "lrRc9Htb3Ftp"
      },
      "execution_count": 3,
      "outputs": []
    },
    {
      "cell_type": "code",
      "source": [
        "arr = [10, 4, 5, 8, 6, 11, 26, 7, 3, 1, 23]\n",
        "k = 5\n",
        "function_result = find_kth_smallest(arr, k)\n",
        "expected_result = sorted(arr)[k-1]\n",
        "print(\"Function result:\", function_result, \"Expected result:\", expected_result)"
      ],
      "metadata": {
        "colab": {
          "base_uri": "https://localhost:8080/"
        },
        "id": "tXPU5T7a4c5p",
        "outputId": "ed4197b0-2af9-4ae1-a1cf-5e1a796aa442"
      },
      "execution_count": 4,
      "outputs": [
        {
          "output_type": "stream",
          "name": "stdout",
          "text": [
            "Function result: 6 Expected result: 6\n"
          ]
        }
      ]
    },
    {
      "cell_type": "markdown",
      "source": [
        "## Median of medians (Algorytm magicznych piątek)"
      ],
      "metadata": {
        "id": "jfJIlgoxUM2C"
      }
    },
    {
      "cell_type": "code",
      "source": [
        "# TODO"
      ],
      "metadata": {
        "id": "AqcDGoRm59zf"
      },
      "execution_count": 4,
      "outputs": []
    },
    {
      "cell_type": "markdown",
      "source": [
        "## **Other**"
      ],
      "metadata": {
        "id": "x2algAeEVyIA"
      }
    },
    {
      "cell_type": "markdown",
      "source": [
        "## Counting sort for array with negative numbers"
      ],
      "metadata": {
        "id": "yyR-WJBoUM7L"
      }
    },
    {
      "cell_type": "code",
      "source": [
        "def counting_sort_with_negative(arr):\n",
        "    min_val = min(arr)\n",
        "    max_val = max(arr)\n",
        "    count = [0] * (max_val - min_val + 1)\n",
        "    output = [0] * len(arr)\n",
        "    for i in range(len(arr)):\n",
        "        count[arr[i] - min_val] += 1\n",
        "    for i in range(1, len(count)):\n",
        "        count[i] += count[i-1]\n",
        "    for i in range(len(arr)-1, -1, -1):\n",
        "        output[count[arr[i] - min_val] - 1] = arr[i]\n",
        "        count[arr[i] - min_val] -= 1\n",
        "    return output"
      ],
      "metadata": {
        "id": "GRmSq_p70a-s"
      },
      "execution_count": 5,
      "outputs": []
    },
    {
      "cell_type": "code",
      "source": [
        "arr = [-12,4,2,5,5,12,6,1,-6,-5,-3,-1]\n",
        "sorted_arr = counting_sort_with_negative(arr)\n",
        "print(sorted_arr)"
      ],
      "metadata": {
        "colab": {
          "base_uri": "https://localhost:8080/"
        },
        "id": "ZUSBwdw20zYj",
        "outputId": "529450af-0035-426b-a670-c71583792c6d"
      },
      "execution_count": 6,
      "outputs": [
        {
          "output_type": "stream",
          "name": "stdout",
          "text": [
            "[-12, -6, -5, -3, -1, 1, 2, 4, 5, 5, 6, 12]\n"
          ]
        }
      ]
    },
    {
      "cell_type": "markdown",
      "source": [
        "## Sorting dates with radix sort"
      ],
      "metadata": {
        "id": "n_QocFHmUNAC"
      }
    },
    {
      "cell_type": "code",
      "source": [
        "# Date format: \"DD-MM-RRRR\"\n",
        "def bucket_sort_dates(arr):\n",
        "    arr = counting_sort_digit(arr, \"day\")\n",
        "    arr = counting_sort_digit(arr, \"month\")\n",
        "    arr = counting_sort_digit(arr, \"year\")\n",
        "    return arr\n",
        "\n",
        "def counting_sort_digit(arr, component):\n",
        "    n = len(arr)\n",
        "    output = [\"\" for _ in range(n)]\n",
        "\n",
        "    if component == \"day\":\n",
        "        k = 31\n",
        "        key_func = lambda date: int(date[:2])\n",
        "    elif component == \"month\":\n",
        "        k = 12\n",
        "        key_func = lambda date: int(date[3:5])\n",
        "    elif component == \"year\":\n",
        "        key_func = lambda date: int(date[6:])\n",
        "        k = max([key_func(d) for d in arr])\n",
        "\n",
        "    C = [0] * (k + 1)\n",
        "\n",
        "    for date in arr:\n",
        "        key = key_func(date)\n",
        "        C[key] += 1\n",
        "\n",
        "    for i in range(1, k + 1):\n",
        "        C[i] += C[i - 1]\n",
        "\n",
        "    for i in range(n - 1, -1, -1):\n",
        "        key = key_func(arr[i])\n",
        "        output[C[key] - 1] = arr[i]\n",
        "        C[key] -= 1\n",
        "\n",
        "    return output"
      ],
      "metadata": {
        "id": "vwq-LSZV1FyO"
      },
      "execution_count": 7,
      "outputs": []
    },
    {
      "cell_type": "code",
      "source": [
        "dates = [\"05-04-2025\", \"10-01-2023\", \"01-12-2025\", \"05-01-2027\"]\n",
        "sorted_dates = bucket_sort_dates(dates)\n",
        "print(sorted_dates)"
      ],
      "metadata": {
        "colab": {
          "base_uri": "https://localhost:8080/"
        },
        "id": "NDf9rhK02rWr",
        "outputId": "5af5964b-18c2-421b-9e33-f6ed5c103fc9"
      },
      "execution_count": 8,
      "outputs": [
        {
          "output_type": "stream",
          "name": "stdout",
          "text": [
            "['10-01-2023', '05-04-2025', '01-12-2025', '05-01-2027']\n"
          ]
        }
      ]
    }
  ]
}